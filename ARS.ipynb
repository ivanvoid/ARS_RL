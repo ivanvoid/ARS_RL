{
 "cells": [
  {
   "cell_type": "code",
   "execution_count": 1,
   "id": "a8c52f3d-7dc8-4d16-b1cc-771e42ba2ea4",
   "metadata": {},
   "outputs": [],
   "source": [
    "%matplotlib inline\n",
    "from mpl_toolkits import mplot3d\n",
    "import matplotlib.pyplot as plt\n",
    "from tqdm import tqdm\n",
    "import numpy as np\n",
    "import gym"
   ]
  },
  {
   "cell_type": "markdown",
   "id": "f5aed910-42cf-4d73-82cb-231817699486",
   "metadata": {},
   "source": [
    "List of things to check:\n",
    "- VARIABLES:\n",
    "    - Random seed vs total_mean_reward(TMR)\n",
    "    - N_ROLLOUTS vs TMR\n",
    "    - TOTAL_STEPS vs TMR\n",
    "    - b=2\n",
    "    - alpha=1e-3 \n",
    "    - std=1\n",
    "    - v=1e-3\n",
    "    - States norm (minmax)\n",
    "COMPONENTS:"
   ]
  },
  {
   "cell_type": "markdown",
   "id": "8b8fd775-1f0a-4ce7-8ae5-ec2742a9bfd6",
   "metadata": {},
   "source": [
    "# Hyper Parameters and Ranges"
   ]
  },
  {
   "cell_type": "code",
   "execution_count": 2,
   "id": "734ad0f4-b99c-4243-a61f-8b121838233d",
   "metadata": {},
   "outputs": [],
   "source": [
    "# PARAMETERS\n",
    "\n",
    "# Random seed \n",
    "SEED = 42\n",
    "# Number of steps to wait until next update \n",
    "N_ROLLOUTS = 10\n",
    "# Number of total steps of env simulation\n",
    "TOTAL_STEPS = 1000\n",
    "# Number of evaluation stapes \n",
    "EVAL_STEPS = 1000\n",
    "#\n",
    "ALPHA = 1e-3 \n",
    "# STD for normal dist. for exploration noise\n",
    "STD = 1\n",
    "# Amount of noise we add (weight multiplyer)\n",
    "V = 1e-3\n",
    "\n",
    "# Parameters ranges\n",
    "# (min, max, step)\n",
    "SEED_RANGE = (0, 1024, 1)\n",
    "TOTAL_STEPS_RANGE = (1, 1e+5, 1)\n",
    "N_ROLLOUTS_RANGE = (0, TOTAL_STEPS_RANGE[1], 1)\n",
    "ALPHA_RANGE = (0, 1, 1e-3)\n",
    "STD_RANGE = (0, 1, 1e-3)\n",
    "V_RANGE = (0, 1, 1e-3)\n"
   ]
  },
  {
   "cell_type": "markdown",
   "id": "9d8d70c8-cade-470d-bd48-b7a65a68411b",
   "metadata": {},
   "source": [
    "# Model\n",
    "In all experiments will be used one type of model."
   ]
  },
  {
   "cell_type": "code",
   "execution_count": 3,
   "id": "567b9802-4a4f-4c25-b095-1ad791c1c793",
   "metadata": {},
   "outputs": [],
   "source": [
    "class Linear_model:\n",
    "    def __init__(self, n_state, n_action): \n",
    "        # M stands for parameters of this model\n",
    "        self.M = np.zeros((n_action, n_state))\n",
    "        \n",
    "    def __call__(self, state, v=0, noise=1):\n",
    "        '''\n",
    "            v - [0.,1.] controls how much noise we adding to our parameters\n",
    "            noise - noise of same shape as M\n",
    "        '''\n",
    "        action = (self.M + v*noise) @ state\n",
    "        return action"
   ]
  },
  {
   "cell_type": "markdown",
   "id": "d2a139a2-7515-4310-b799-463d68e3bf9c",
   "metadata": {
    "tags": []
   },
   "source": [
    "# Ablation study"
   ]
  },
  {
   "cell_type": "markdown",
   "id": "9cdb7125-a261-43a0-885f-59bbd9a0a944",
   "metadata": {},
   "source": [
    "How most simple version performs on basic envs?"
   ]
  },
  {
   "cell_type": "code",
   "execution_count": 4,
   "id": "c518b1e7-f87e-4d0a-8ca1-3488b7827e65",
   "metadata": {},
   "outputs": [],
   "source": [
    "class BaseRandomSearch:\n",
    "    def __init__(self, n_state, n_action, std, v):\n",
    "        self.policy = Linear_model(n_state,n_action)\n",
    "        self.std = std\n",
    "        self.v = v\n",
    "        \n",
    "        self.buffer = []\n",
    "        \n",
    "    def get_actions(self, state, is_train=False):\n",
    "        if is_train:\n",
    "            noise = np.random.normal(0, self.std, size=self.policy.M.shape)\n",
    "            action_pos = self.policy(state,  self.v, noise)\n",
    "            action_neg = self.policy(state, -self.v, noise)\n",
    "            action_pos = self._remap_actions(action_pos)\n",
    "            action_neg = self._remap_actions(action_neg)\n",
    "            return action_pos, action_neg, noise\n",
    "        else:\n",
    "            action = self.policy(state)\n",
    "            return self._remap_actions(action)\n",
    "    def learn(self):\n",
    "        update = np.zeros_like(self.policy.M)\n",
    "        for step in self.buffer:\n",
    "            if self.v == 0:\n",
    "                update = 0\n",
    "            else:\n",
    "                update += ((step[-2] - step[-1]) * step[-3]) / self.v\n",
    "        \n",
    "        self.policy.M = self.policy.M + update  \n",
    "        \n",
    "        self.buffer = []\n",
    "        \n",
    "    def remember(self, memory):\n",
    "        self.buffer.append(memory)\n",
    "        \n",
    "    def _remap_actions(self, action):\n",
    "        return 2 * np.tanh(action)\n",
    "            \n",
    "        "
   ]
  },
  {
   "cell_type": "markdown",
   "id": "6c1b3e44-e553-4c86-863e-fe08c9f25c57",
   "metadata": {},
   "source": [
    "Train BRS"
   ]
  },
  {
   "cell_type": "code",
   "execution_count": 5,
   "id": "4e146180-6ec7-4fd5-a946-458d7f97524e",
   "metadata": {},
   "outputs": [],
   "source": [
    "def train(env, model, STD, V):\n",
    "    np.random.seed(SEED)\n",
    "    env.seed(SEED)\n",
    "    observation = env.reset()\n",
    "\n",
    "    #REWARDS = []\n",
    "    for step in range(TOTAL_STEPS):\n",
    "        #t_reward = 0\n",
    "        for ro in range(N_ROLLOUTS):\n",
    "            pos_action, neg_action, noise = model.get_actions(observation, is_train=True)\n",
    "            pos_observation, pos_reward, pos_done, pos_info = env.step(pos_action)\n",
    "            neg_observation, neg_reward, neg_done, neg_info = env.step(neg_action)\n",
    "\n",
    "            model.remember([pos_action[0], neg_action[0], noise, pos_reward, neg_reward])\n",
    "            #t_reward += (pos_reward + neg_reward)/2\n",
    "\n",
    "            coin = np.random.rand() \n",
    "            if coin < 0.33:\n",
    "                observation = env.reset()\n",
    "            elif 0.33 < coin < 0.66:\n",
    "                observation = pos_observation \n",
    "            elif coin > 0.66:\n",
    "                observation = neg_observation\n",
    "        model.learn()\n",
    "        #REWARDS.append(t_reward)\n",
    "\n",
    "    env.close()\n",
    "    return model"
   ]
  },
  {
   "cell_type": "code",
   "execution_count": 6,
   "id": "2fb966a9-5ef8-4377-b442-9dd4b8ddc454",
   "metadata": {},
   "outputs": [],
   "source": [
    "def evaluate(env, model, SEED=SEED, EVAL_STEPS=EVAL_STEPS):\n",
    "    np.random.seed(SEED)\n",
    "    env.seed(SEED)\n",
    "    observation = env.reset()\n",
    "\n",
    "    score = 0\n",
    "\n",
    "    for step in range(EVAL_STEPS):\n",
    "        action = model.get_actions(observation)\n",
    "        observation, reward, done, info = env.step(action)\n",
    "\n",
    "        score += reward\n",
    "\n",
    "        if done:\n",
    "            observation = env.reset()\n",
    "\n",
    "    env.close()\n",
    "    return score"
   ]
  },
  {
   "cell_type": "markdown",
   "id": "2eb13380-9ba9-4834-bc1d-4ea1c7a54aee",
   "metadata": {},
   "source": [
    "Now we will check if std of exploration noise and it weight have any impact on model performance."
   ]
  },
  {
   "cell_type": "code",
   "execution_count": 7,
   "id": "1c80e20e-9ce8-4371-86e4-f914a37b779c",
   "metadata": {
    "tags": []
   },
   "outputs": [
    {
     "name": "stderr",
     "output_type": "stream",
     "text": [
      "100%|██████████| 4/4 [00:15<00:00,  3.81s/it]\n"
     ]
    }
   ],
   "source": [
    "STD_RANGE = (1e-3, 1, 3e-1)\n",
    "V_RANGE = (1e-3, 1, 3e-1)\n",
    "\n",
    "env = gym.make('Pendulum-v1', g=9.82)\n",
    "n_action = 1 \n",
    "n_state = 3\n",
    "\n",
    "monitor_sml = []\n",
    "saved_polices = []\n",
    "for std in tqdm(np.arange(*STD_RANGE)):\n",
    "    for v in np.arange(*V_RANGE):\n",
    "        model = BaseRandomSearch(n_state, n_action, std=std, v=v)\n",
    "        \n",
    "        trained_model = train(env, model, std, v)\n",
    "        score = evaluate(env, trained_model)\n",
    "        monitor_sml.append([std, v, score])\n",
    "        saved_polices += [model.policy.M]\n",
    "monitor_sml = np.array(monitor_sml)"
   ]
  },
  {
   "cell_type": "code",
   "execution_count": 8,
   "id": "96094bd7-b420-4453-a507-869ab58addd2",
   "metadata": {},
   "outputs": [
    {
     "data": {
      "image/png": "[encoded data removed]",
      "text/plain": [
       "<Figure size 432x288 with 1 Axes>"
      ]
     },
     "metadata": {
      "needs_background": "light"
     },
     "output_type": "display_data"
    }
   ],
   "source": [
    "fig = plt.figure()\n",
    "ax = plt.axes(projection='3d')\n",
    "ax.scatter3D(monitor_sml[:,0], monitor_sml[:,1], monitor_sml[:,2], c=monitor_sml[:,2], cmap='viridis')\n",
    "plt.show()"
   ]
  },
  {
   "cell_type": "code",
   "execution_count": 9,
   "id": "611a3736-b6ac-407b-9510-5fd6d975c007",
   "metadata": {},
   "outputs": [
    {
     "data": {
      "text/plain": [
       "[array([[ 50.02662545,   6.52832292, -53.80112665]]),\n",
       " array([[ 0.2236732 , -0.09784363, -0.39549062]]),\n",
       " array([[ 0.15423438, -0.016336  , -0.21222184]]),\n",
       " array([[ 0.10576428, -0.00684312, -0.14856844]]),\n",
       " array([[ 21874.85205358,  21883.35640594, -16575.69588982]]),\n",
       " array([[ 45.2972532 ,  10.57883378, -51.46600784]]),\n",
       " array([[ 33.92109298,  23.08721583, -24.84517521]]),\n",
       " array([[ 19.82396335,  17.84301309, -18.31823427]]),\n",
       " array([[ 43676.84693342,  43694.22090866, -33096.55257837]]),\n",
       " array([[ 176.93472056,  149.57154001, -132.74095081]]),\n",
       " array([[104.50208846,  59.93723411, -54.07797491]]),\n",
       " array([[ 37.05140655,  12.26046673, -39.38593725]]),\n",
       " array([[ 65479.03179361,  65505.10872089, -49617.2025899 ]]),\n",
       " array([[ 191.76666401,  186.9586146 , -150.9777969 ]]),\n",
       " array([[139.20512604, 102.61722133, -82.00340858]]),\n",
       " array([[ 71.90882597,  57.99038402, -81.65924065]])]"
      ]
     },
     "execution_count": 9,
     "metadata": {},
     "output_type": "execute_result"
    }
   ],
   "source": [
    "saved_polices"
   ]
  },
  {
   "cell_type": "markdown",
   "id": "8aebad5f-db0e-4e39-9d9f-c597669420b1",
   "metadata": {},
   "source": [
    "F"
   ]
  },
  {
   "cell_type": "code",
   "execution_count": 10,
   "id": "a53bf5a8-b2f6-4007-b1f0-68ae218fdd75",
   "metadata": {},
   "outputs": [
    {
     "name": "stderr",
     "output_type": "stream",
     "text": [
      "100%|██████████| 4/4 [00:15<00:00,  3.97s/it]\n"
     ]
    }
   ],
   "source": [
    "STD_RANGE = (0, 10, 3)\n",
    "V_RANGE = (0, 10, 3)\n",
    "\n",
    "env = gym.make('Pendulum-v1', g=9.82)\n",
    "n_action = 1 \n",
    "n_state = 3\n",
    "\n",
    "monitor_big = []\n",
    "saved_polices = []\n",
    "for std in tqdm(np.arange(*STD_RANGE)):\n",
    "    for v in np.arange(*V_RANGE):\n",
    "        \n",
    "        model = BaseRandomSearch(n_state, n_action, std=std, v=v)\n",
    "        \n",
    "        trained_model = train(env, model, std, v)\n",
    "        score = evaluate(env, trained_model)\n",
    "        monitor_big.append([std, v, score])\n",
    "        saved_polices.append(model.policy.M)\n",
    "monitor_big = np.array(monitor_big)"
   ]
  },
  {
   "cell_type": "code",
   "execution_count": 11,
   "id": "2e659236-8198-4c38-b220-95f54e1ec5b0",
   "metadata": {},
   "outputs": [
    {
     "data": {
      "text/plain": [
       "[array([[0., 0., 0.]]),\n",
       " array([[0., 0., 0.]]),\n",
       " array([[0., 0., 0.]]),\n",
       " array([[0., 0., 0.]]),\n",
       " array([[0., 0., 0.]]),\n",
       " array([[ 85.29529903, 111.43721637,  22.24385408]]),\n",
       " array([[46.64826409, 81.69249461, 25.44788137]]),\n",
       " array([[36.76962017, 66.56593482, 33.19300239]]),\n",
       " array([[0., 0., 0.]]),\n",
       " array([[180.5907712 , 204.84339829,  41.63226875]]),\n",
       " array([[ 98.66194258, 177.74565755,  55.19469849]]),\n",
       " array([[ 73.15846573, 133.0309052 ,  66.49866094]]),\n",
       " array([[0., 0., 0.]]),\n",
       " array([[150.87345115, 223.88053421,  33.72540665]]),\n",
       " array([[160.18840864, 279.62682871,  82.80722163]]),\n",
       " array([[109.17990073, 199.42410814,  99.63498178]])]"
      ]
     },
     "execution_count": 11,
     "metadata": {},
     "output_type": "execute_result"
    }
   ],
   "source": [
    "saved_polices"
   ]
  },
  {
   "cell_type": "code",
   "execution_count": 12,
   "id": "598b1899-c65c-4bcc-913b-316153836c23",
   "metadata": {},
   "outputs": [
    {
     "data": {
      "image/png": "[encoded data removed]",
      "text/plain": [
       "<Figure size 432x288 with 1 Axes>"
      ]
     },
     "metadata": {
      "needs_background": "light"
     },
     "output_type": "display_data"
    }
   ],
   "source": [
    "fig = plt.figure()\n",
    "ax = plt.axes(projection='3d')\n",
    "ax.scatter3D(monitor_big[:,0], monitor_big[:,1], monitor_big[:,2], c=monitor_big[:,2], cmap='viridis')\n",
    "plt.show()"
   ]
  },
  {
   "cell_type": "code",
   "execution_count": 15,
   "id": "0d5c872e-ffd5-4151-8a2e-6017cd12cbce",
   "metadata": {},
   "outputs": [
    {
     "data": {
      "image/png": "[encoded data removed]",
      "text/plain": [
       "<Figure size 432x288 with 1 Axes>"
      ]
     },
     "metadata": {
      "needs_background": "light"
     },
     "output_type": "display_data"
    }
   ],
   "source": [
    "fig, ax = plt.subplots()\n",
    "D = [monitor_sml[:,2], monitor_big[:,2]]\n",
    "VP = ax.boxplot(D, positions=[2, 4], widths=1.5, patch_artist=True,\n",
    "                showmeans=False, showfliers=False,\n",
    "                medianprops={\"color\": \"white\", \"linewidth\": 0.5},\n",
    "                boxprops={\"facecolor\": \"C0\", \"edgecolor\": \"white\",\n",
    "                          \"linewidth\": 0.5},\n",
    "                whiskerprops={\"color\": \"C0\", \"linewidth\": 1.5},\n",
    "                capprops={\"color\": \"C0\", \"linewidth\": 1.5})"
   ]
  },
  {
   "cell_type": "markdown",
   "id": "faea6be7-a6c8-4868-82f5-9d209f04a43b",
   "metadata": {},
   "source": [
    "Conclusion on this BRS baseline:  \n",
    "no matter of parameters model sees same states and converges to same susboptimal state."
   ]
  },
  {
   "cell_type": "markdown",
   "id": "115c5b87-78d8-4ab2-a153-9481fe1a778d",
   "metadata": {},
   "source": [
    "# Development"
   ]
  },
  {
   "cell_type": "code",
   "execution_count": 4,
   "id": "2c46f2c8-d769-4afb-968f-88682d2bfdb0",
   "metadata": {},
   "outputs": [],
   "source": [
    "class ARS:\n",
    "    def __init__(self, n_state, n_action, b=2, alpha=1e-3, std=1, v=1e-3,\n",
    "                state_high=None, state_low=None):\n",
    "        self.policy = Linear_model(n_state, n_action)\n",
    "        self.buffer = []\n",
    "        self.alpha = alpha\n",
    "        self.std = std\n",
    "        self.v = v\n",
    "        # b - number of b top-performing directions \n",
    "        self.b = b\n",
    "        \n",
    "        self.state_low = state_low \n",
    "        self.state_high = state_high\n",
    "        \n",
    "    def learn(self):\n",
    "        # sort noise permutations by reward they achive, \n",
    "        # and select only high reward ones\n",
    "        b_buffer = self.sort_directions()\n",
    "        \n",
    "        reward_std = b_buffer[:, -2:].std()\n",
    "        norm = self.alpha / (self.b * reward_std)\n",
    "        \n",
    "        reward_sum = 0\n",
    "        for step in b_buffer:\n",
    "            # ( R+ - R- ) * noise\n",
    "            reward_sum += (step[-2] - step[-1]) * step[-3]\n",
    "    \n",
    "        self.policy.M = self.policy.M + (norm * reward_sum)\n",
    "        \n",
    "        # reset buffer \n",
    "        self.buffer = []\n",
    "    \n",
    "    def sort_directions(self):\n",
    "        buffer = np.array(self.buffer, dtype=object)\n",
    "        b_rewards = buffer[:, -2:].sum(-1)\n",
    "        \n",
    "        # idxs from low to high\n",
    "        b_idxs = np.argsort(b_rewards)\n",
    "        b_buffer = buffer[b_idxs][-self.b:]\n",
    "        \n",
    "        # print(buffer[b_idxs][:-self.b][:,-2:].mean(), buffer[b_idxs][-self.b:][:,-2:].mean())\n",
    "        return b_buffer\n",
    "    \n",
    "    def get_actions(self, state, is_train=False):\n",
    "        if not self.state_high is None:\n",
    "            # MINMAX NORM {value - min}/{max - min}\n",
    "            state = (state - self.state_low)/(self.state_high - self.state_low)\n",
    "            \n",
    "        if is_train:\n",
    "            noise = np.random.normal(0,self.std, size=self.policy.M.shape)\n",
    "            pos_action = self.policy(state,  self.v, noise)\n",
    "            neg_action = self.policy(state, -self.v, noise)\n",
    "            \n",
    "            pos_action = self._remap_actions(pos_action)\n",
    "            neg_action = self._remap_actions(neg_action)\n",
    "            return pos_action, neg_action, noise\n",
    "        else:\n",
    "            action = self.policy(state)\n",
    "            return self._remap_actions(action)\n",
    "            \n",
    "    \n",
    "    def remember(self, memory):\n",
    "        self.buffer.append(memory)\n",
    "        \n",
    "    def _remap_actions(self, action):\n",
    "        return 2 * np.tanh(action)\n",
    "    \n"
   ]
  },
  {
   "cell_type": "code",
   "execution_count": 5,
   "id": "10ac2061-c035-4177-896a-efefede2d83f",
   "metadata": {},
   "outputs": [
    {
     "name": "stderr",
     "output_type": "stream",
     "text": [
      "100%|██████████| 100/100 [00:00<00:00, 1988.18it/s]\n"
     ]
    }
   ],
   "source": [
    "import gym\n",
    "env = gym.make('Pendulum-v1', g=9.82)\n",
    "env.seed(SEED)\n",
    "observation = env.reset()\n",
    "\n",
    "state_high = env.observation_space.high\n",
    "state_low = env.observation_space.low\n",
    "model = ARS(3, 1, b=N_ROLLOUTS, std=1, \n",
    "            state_low=state_low, state_high=state_high)\n",
    "\n",
    "REWARDS = []\n",
    "t_reward = 0\n",
    "for step in tqdm(range(TOTAL_STEPS)):\n",
    "    #env.render()\n",
    "    \n",
    "    for ro in range(N_ROLLOUTS):\n",
    "        pos_action, neg_action, noise = model.get_actions(observation, is_train=True)\n",
    "        pos_observation, pos_reward, pos_done, pos_info = env.step(pos_action)\n",
    "        neg_observation, neg_reward, neg_done, neg_info = env.step(neg_action)\n",
    "\n",
    "        model.remember([pos_action[0], neg_action[0], noise, pos_reward, neg_reward])\n",
    "        t_reward += (pos_reward + neg_reward)/2\n",
    "        observation = env.reset()\n",
    "        #observation = pos_observation if np.random.rand()>0.5 else neg_observation\n",
    "    \n",
    "    # if (pos_done or neg_done):\n",
    "        \n",
    "        \n",
    "    # if (step % N_ROLLOUTS == 0 and step != 0):\n",
    "    model.learn()\n",
    "    REWARDS.append(t_reward)\n",
    "    t_reward = 0\n",
    "    \n",
    "env.close()"
   ]
  },
  {
   "cell_type": "code",
   "execution_count": 6,
   "id": "94182aa1-d402-48ed-8e33-3808e56f3522",
   "metadata": {},
   "outputs": [
    {
     "data": {
      "text/plain": [
       "array([[ 0.00088557,  0.00168218, -0.00120841]])"
      ]
     },
     "execution_count": 6,
     "metadata": {},
     "output_type": "execute_result"
    }
   ],
   "source": [
    "model.policy.M"
   ]
  },
  {
   "cell_type": "code",
   "execution_count": 7,
   "id": "f144f3f4-1b38-43ab-aaf3-b64c8c356893",
   "metadata": {},
   "outputs": [
    {
     "data": {
      "image/png": "[encoded data removed]",
      "text/plain": [
       "<Figure size 1080x360 with 1 Axes>"
      ]
     },
     "metadata": {
      "needs_background": "light"
     },
     "output_type": "display_data"
    }
   ],
   "source": [
    "plt.figure(figsize=(15,5))\n",
    "plt.plot(REWARDS)\n",
    "plt.title(np.mean(REWARDS).round(1))\n",
    "plt.show()"
   ]
  },
  {
   "cell_type": "code",
   "execution_count": null,
   "id": "12d788e7-3fb9-4759-93bb-b2cbc762789d",
   "metadata": {},
   "outputs": [],
   "source": []
  },
  {
   "cell_type": "code",
   "execution_count": null,
   "id": "a5fd22ec-10d5-4bec-9e88-22534b4c1516",
   "metadata": {},
   "outputs": [],
   "source": []
  },
  {
   "cell_type": "code",
   "execution_count": null,
   "id": "d1d6237e-f04f-4c75-8357-47575be2fca7",
   "metadata": {},
   "outputs": [],
   "source": []
  },
  {
   "cell_type": "code",
   "execution_count": null,
   "id": "2755c728-e6e7-47e9-b8fc-326d7c012185",
   "metadata": {},
   "outputs": [],
   "source": []
  },
  {
   "cell_type": "code",
   "execution_count": null,
   "id": "34749dd6-972b-49b2-9e9b-8d2fe4b07c48",
   "metadata": {},
   "outputs": [],
   "source": []
  },
  {
   "cell_type": "code",
   "execution_count": null,
   "id": "54f9a457-1929-4e33-ae88-d7e4764988ab",
   "metadata": {},
   "outputs": [],
   "source": []
  },
  {
   "cell_type": "code",
   "execution_count": null,
   "id": "1e12be92-1afc-49ce-a9e9-8848f10650a2",
   "metadata": {},
   "outputs": [],
   "source": []
  },
  {
   "cell_type": "code",
   "execution_count": 12,
   "id": "4fadd325-10eb-4f13-99ee-00c9f3015fdd",
   "metadata": {},
   "outputs": [],
   "source": [
    "import pandas as pd"
   ]
  },
  {
   "cell_type": "code",
   "execution_count": null,
   "id": "d1a2cb3b-f0f0-4492-bf1e-0b40f59a61fc",
   "metadata": {},
   "outputs": [],
   "source": []
  },
  {
   "cell_type": "code",
   "execution_count": 8,
   "id": "e4148428-303d-498f-9d72-2611ffd789d9",
   "metadata": {},
   "outputs": [],
   "source": [
    "meta_data_collector = {''}\n",
    "\n"
   ]
  },
  {
   "cell_type": "code",
   "execution_count": 9,
   "id": "012dc241-d229-4d38-ab6f-d92f471e33c4",
   "metadata": {},
   "outputs": [],
   "source": [
    "env = gym.make('Pendulum-v1', g=9.81)\n",
    "\n",
    "np.random.seed(SEED)\n",
    "env.seed(SEED)\n",
    "\n",
    "observation = env.reset()\n",
    "\n",
    "state_high = env.observation_space.high\n",
    "state_low = env.observation_space.low\n"
   ]
  },
  {
   "cell_type": "code",
   "execution_count": 10,
   "id": "e5a979c0-73f9-417c-965d-3d2fbe03c55b",
   "metadata": {
    "tags": []
   },
   "outputs": [
    {
     "name": "stderr",
     "output_type": "stream",
     "text": [
      "100%|██████████| 1000/1000 [00:00<00:00, 18524.20it/s]"
     ]
    },
    {
     "name": "stdout",
     "output_type": "stream",
     "text": [
      "-6117.20509834359\n"
     ]
    },
    {
     "name": "stderr",
     "output_type": "stream",
     "text": [
      "\n"
     ]
    }
   ],
   "source": [
    "# EVALUATION\n",
    "# env = gym.make('Pendulum-v1', g=9.82)\n",
    "# observation = env.reset()\n",
    "\n",
    "score = 0\n",
    "for step in tqdm(range(EVAL_STEPS)):\n",
    "    #env.render()\n",
    "    \n",
    "    action = model.get_actions(observation)\n",
    "    observation, reward, done, info = env.step(action)\n",
    "    \n",
    "    score += reward\n",
    "    \n",
    "    if done:\n",
    "        observation = env.reset()\n",
    "        \n",
    "env.close()\n",
    "print(score)"
   ]
  },
  {
   "cell_type": "code",
   "execution_count": null,
   "id": "dc054549-0481-4839-ba0d-f2e25c932688",
   "metadata": {},
   "outputs": [],
   "source": []
  },
  {
   "cell_type": "code",
   "execution_count": 1,
   "id": "a9cce374-b465-48b5-87dc-cbf5fc7e0dca",
   "metadata": {},
   "outputs": [],
   "source": [
    "# model = ARS(3, 1, b=N_ROLLOUTS, std=1, \n",
    "#             state_low=state_low, state_high=state_high)\n",
    "\n",
    "# REWARDS = []\n",
    "# t_reward = 0\n",
    "# for step in tqdm(range(TOTAL_STEPS)):\n",
    "#     #env.render()\n",
    "    \n",
    "#     for ro in range(N_ROLLOUTS):\n",
    "#         pos_action, neg_action, noise = model.get_actions(observation, is_train=True)\n",
    "#         pos_observation, pos_reward, pos_done, pos_info = env.step(pos_action)\n",
    "#         neg_observation, neg_reward, neg_done, neg_info = env.step(neg_action)\n",
    "\n",
    "#         model.remember([pos_action[0], neg_action[0], noise, pos_reward, neg_reward])\n",
    "#         t_reward += (pos_reward + neg_reward)/2\n",
    "#         #observation = env.reset()\n",
    "#         observation = pos_observation if np.random.rand()>0.5 else neg_observation\n",
    "\n",
    "#     model.learn()\n",
    "#     REWARDS.append(t_reward)\n",
    "#     t_reward = 0\n",
    "    \n",
    "# env.close()"
   ]
  },
  {
   "cell_type": "code",
   "execution_count": 1,
   "id": "a0de32b3-dea1-4160-87e3-ae8231ce900e",
   "metadata": {},
   "outputs": [],
   "source": [
    "# model.policy(np.array([1,1,0]))"
   ]
  }
 ],
 "metadata": {
  "kernelspec": {
   "display_name": "Python 3",
   "language": "python",
   "name": "python3"
  },
  "language_info": {
   "codemirror_mode": {
    "name": "ipython",
    "version": 3
   },
   "file_extension": ".py",
   "mimetype": "text/x-python",
   "name": "python",
   "nbconvert_exporter": "python",
   "pygments_lexer": "ipython3",
   "version": "3.9.12"
  }
 },
 "nbformat": 4,
 "nbformat_minor": 5
}
