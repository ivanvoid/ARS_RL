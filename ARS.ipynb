{
 "cells": [
  {
   "cell_type": "code",
   "execution_count": 1,
   "id": "a8c52f3d-7dc8-4d16-b1cc-771e42ba2ea4",
   "metadata": {},
   "outputs": [],
   "source": [
    "%matplotlib inline\n",
    "import matplotlib.pyplot as plt\n",
    "from tqdm.notebook import tqdm\n",
    "import numpy as np\n",
    "import gym\n",
    "\n",
    "from models import *"
   ]
  },
  {
   "cell_type": "markdown",
   "id": "29024989",
   "metadata": {},
   "source": [
    "## Help functions"
   ]
  },
  {
   "cell_type": "code",
   "execution_count": 2,
   "id": "9a1013b9",
   "metadata": {},
   "outputs": [],
   "source": [
    "def train(env, t_model, total_steps, n_rollouts, tseed, version='v1'):\n",
    "    np.random.seed(tseed)\n",
    "    try:\n",
    "        observation = env.reset(seed=tseed)\n",
    "    except:\n",
    "        env.seed(tseed)\n",
    "        observation = env.reset()\n",
    "        \n",
    "    for step in tqdm(range(total_steps)):\n",
    "        for ro in range(n_rollouts):\n",
    "            pos_action, neg_action, noise = t_model.get_actions(observation, is_train=True)\n",
    "            \n",
    "            pos_observation, pos_reward, pos_done, pos_info = env.step(pos_action)\n",
    "            neg_observation, neg_reward, neg_done, neg_info = env.step(neg_action)\n",
    "            \n",
    "            t_model.remember([pos_action[0], neg_action[0], noise[0], pos_reward, neg_reward])\n",
    "            \n",
    "            if version == 'v2':\n",
    "                t_model.states += pos_observation, neg_observation\n",
    "                \n",
    "        # select next state\n",
    "        action = t_model.get_actions(observation)\n",
    "        observation, _, done, _ = env.step(action)\n",
    "\n",
    "        if (pos_done or neg_done):\n",
    "            observation = env.reset()\n",
    "            \n",
    "        t_model.learn()\n",
    "\n",
    "    env.close()\n",
    "    return t_model"
   ]
  },
  {
   "cell_type": "code",
   "execution_count": 3,
   "id": "7615abfa",
   "metadata": {},
   "outputs": [],
   "source": [
    "def evaluate(env, model, eval_steps, eseed):\n",
    "    np.random.seed(eseed)\n",
    "    try:\n",
    "        observation = env.reset(seed=eseed)\n",
    "    except:\n",
    "        env.seed(eseed)\n",
    "        observation = env.reset()\n",
    "        \n",
    "    score = 0\n",
    "\n",
    "    for step in range(eval_steps):\n",
    "        action = model.get_actions(observation)\n",
    "        observation, reward, done, info = env.step(action)\n",
    "\n",
    "        score += reward\n",
    "\n",
    "        if done:\n",
    "            observation = env.reset()\n",
    "\n",
    "    env.close()\n",
    "    return score"
   ]
  },
  {
   "cell_type": "markdown",
   "id": "d2a139a2-7515-4310-b799-463d68e3bf9c",
   "metadata": {
    "tags": []
   },
   "source": [
    "# Ablation study / models testing"
   ]
  },
  {
   "cell_type": "code",
   "execution_count": 4,
   "id": "fd3c746b",
   "metadata": {},
   "outputs": [],
   "source": [
    "# Random seed\n",
    "SEED = 42\n",
    "# number of training steps\n",
    "TOTAL_STEPS = 10000\n",
    "# Number of rollouts over one state \n",
    "N_ROLLOUTS = 64\n",
    "# How many samples use to do partial buffer update\n",
    "N_SAMPLES_UPDATE = 16\n",
    "# Number of evaluation steps\n",
    "EVAL_STEPS = 1000\n",
    "\n",
    "# exploration noise std, for normal distribution\n",
    "STD = 0.01\n",
    "# LR for ARS update\n",
    "ALPHA = 2e-2 \n",
    "\n",
    "env_id = 0\n",
    "envs = ['Pendulum-v1', ]\n",
    "\n",
    "np.random.seed(SEED)\n",
    "RANDOM_EVAL_SEEDS = np.random.randint(100000, size=EVAL_STEPS)\n",
    "\n",
    "env = gym.make(envs[env_id])\n",
    "\n",
    "n_action = env.action_space.shape[0]\n",
    "n_state = env.observation_space.shape[0]\n",
    "# print(n_action, n_state)\n",
    "\n",
    "state_high = env.observation_space.high\n",
    "state_low = env.observation_space.low"
   ]
  },
  {
   "cell_type": "markdown",
   "id": "49ace8e7",
   "metadata": {},
   "source": [
    "## BRS_1"
   ]
  },
  {
   "cell_type": "code",
   "execution_count": 5,
   "id": "2f796d65",
   "metadata": {
    "scrolled": true
   },
   "outputs": [
    {
     "data": {
      "application/vnd.jupyter.widget-view+json": {
       "model_id": "c40942ee96544ac0bae1cd7cff1cd3b6",
       "version_major": 2,
       "version_minor": 0
      },
      "text/plain": [
       "  0%|          | 0/10000 [00:00<?, ?it/s]"
      ]
     },
     "metadata": {},
     "output_type": "display_data"
    },
    {
     "data": {
      "application/vnd.jupyter.widget-view+json": {
       "model_id": "95bf9e59435f471691020ce05eb2bf9f",
       "version_major": 2,
       "version_minor": 0
      },
      "text/plain": [
       "  0%|          | 0/1000 [00:00<?, ?it/s]"
      ]
     },
     "metadata": {},
     "output_type": "display_data"
    }
   ],
   "source": [
    "model = BaseRandomSearch(n_state, n_action, std=STD)\n",
    "\n",
    "trained_model = train(env, model, TOTAL_STEPS, N_ROLLOUTS, SEED)\n",
    "\n",
    "BRS_1_rewards = []\n",
    "for eseed in tqdm(RANDOM_EVAL_SEEDS):\n",
    "    score = evaluate(env, trained_model, EVAL_STEPS, int(eseed))\n",
    "    BRS_1_rewards += [score]"
   ]
  },
  {
   "cell_type": "markdown",
   "id": "9757676f",
   "metadata": {},
   "source": [
    "## BRS_1_RS"
   ]
  },
  {
   "cell_type": "code",
   "execution_count": 6,
   "id": "e1ac5e21",
   "metadata": {},
   "outputs": [
    {
     "data": {
      "application/vnd.jupyter.widget-view+json": {
       "model_id": "d310be630eb74370aefbbb5444ea03ce",
       "version_major": 2,
       "version_minor": 0
      },
      "text/plain": [
       "  0%|          | 0/10000 [00:00<?, ?it/s]"
      ]
     },
     "metadata": {},
     "output_type": "display_data"
    },
    {
     "data": {
      "application/vnd.jupyter.widget-view+json": {
       "model_id": "8f8e41d28e754b8f910beb4cb147d235",
       "version_major": 2,
       "version_minor": 0
      },
      "text/plain": [
       "  0%|          | 0/1000 [00:00<?, ?it/s]"
      ]
     },
     "metadata": {},
     "output_type": "display_data"
    }
   ],
   "source": [
    "model = BRS_RS(n_state, n_action, std=STD, n_samples=N_SAMPLES_UPDATE)\n",
    "\n",
    "trained_model = train(env, model, TOTAL_STEPS, N_ROLLOUTS, SEED)\n",
    "\n",
    "BRS_1_RS_rewards = []\n",
    "for eseed in tqdm(RANDOM_EVAL_SEEDS):\n",
    "    score = evaluate(env, trained_model, EVAL_STEPS, int(eseed))\n",
    "    BRS_1_RS_rewards += [score]"
   ]
  },
  {
   "cell_type": "markdown",
   "id": "304b7e0f",
   "metadata": {},
   "source": [
    "## BRS_1_SS"
   ]
  },
  {
   "cell_type": "code",
   "execution_count": 7,
   "id": "b94b1e1d",
   "metadata": {},
   "outputs": [
    {
     "data": {
      "application/vnd.jupyter.widget-view+json": {
       "model_id": "8043ed4fe31c4b78972e910c565f2f0c",
       "version_major": 2,
       "version_minor": 0
      },
      "text/plain": [
       "  0%|          | 0/10000 [00:00<?, ?it/s]"
      ]
     },
     "metadata": {},
     "output_type": "display_data"
    },
    {
     "data": {
      "application/vnd.jupyter.widget-view+json": {
       "model_id": "6d1e31d7439641ae8df89229fea45611",
       "version_major": 2,
       "version_minor": 0
      },
      "text/plain": [
       "  0%|          | 0/1000 [00:00<?, ?it/s]"
      ]
     },
     "metadata": {},
     "output_type": "display_data"
    }
   ],
   "source": [
    "model = BRS_SS(n_state, n_action, std=STD, n_samples=N_SAMPLES_UPDATE)\n",
    "\n",
    "trained_model = train(env, model, TOTAL_STEPS, N_ROLLOUTS, SEED)\n",
    "\n",
    "BRS_1_SS_rewards = []\n",
    "for eseed in tqdm(RANDOM_EVAL_SEEDS):\n",
    "    score = evaluate(env, trained_model, EVAL_STEPS, int(eseed))\n",
    "    BRS_1_SS_rewards += [score]"
   ]
  },
  {
   "cell_type": "markdown",
   "id": "bd26b366",
   "metadata": {},
   "source": [
    "## BRS_1_SSn"
   ]
  },
  {
   "cell_type": "code",
   "execution_count": 8,
   "id": "6cad537d",
   "metadata": {},
   "outputs": [
    {
     "data": {
      "application/vnd.jupyter.widget-view+json": {
       "model_id": "0b5e090fbdca49a8a35dc84bf3799d05",
       "version_major": 2,
       "version_minor": 0
      },
      "text/plain": [
       "  0%|          | 0/10000 [00:00<?, ?it/s]"
      ]
     },
     "metadata": {},
     "output_type": "display_data"
    },
    {
     "data": {
      "application/vnd.jupyter.widget-view+json": {
       "model_id": "1258497c9f014b2cbf235360fe5ce556",
       "version_major": 2,
       "version_minor": 0
      },
      "text/plain": [
       "  0%|          | 0/1000 [00:00<?, ?it/s]"
      ]
     },
     "metadata": {},
     "output_type": "display_data"
    }
   ],
   "source": [
    "model = BRS_SSn(n_state, n_action, std=STD, n_samples=N_SAMPLES_UPDATE, \n",
    "               state_low=state_low, state_high=state_high)\n",
    "\n",
    "trained_model = train(env, model, TOTAL_STEPS, N_ROLLOUTS, SEED)\n",
    "\n",
    "BRS_1_SSn_rewards = []\n",
    "for eseed in tqdm(RANDOM_EVAL_SEEDS):\n",
    "    score = evaluate(env, trained_model, EVAL_STEPS, int(eseed))\n",
    "    BRS_1_SSn_rewards += [score]"
   ]
  },
  {
   "cell_type": "markdown",
   "id": "32c761a9",
   "metadata": {},
   "source": [
    "## BRS_2"
   ]
  },
  {
   "cell_type": "code",
   "execution_count": 9,
   "id": "977eb3cf",
   "metadata": {},
   "outputs": [
    {
     "data": {
      "application/vnd.jupyter.widget-view+json": {
       "model_id": "6a39ef38e52447a59fa06a78a11a0161",
       "version_major": 2,
       "version_minor": 0
      },
      "text/plain": [
       "  0%|          | 0/10000 [00:00<?, ?it/s]"
      ]
     },
     "metadata": {},
     "output_type": "display_data"
    },
    {
     "data": {
      "application/vnd.jupyter.widget-view+json": {
       "model_id": "4066f9272c5d4d34b7eeaa93df70ea84",
       "version_major": 2,
       "version_minor": 0
      },
      "text/plain": [
       "  0%|          | 0/1000 [00:00<?, ?it/s]"
      ]
     },
     "metadata": {},
     "output_type": "display_data"
    }
   ],
   "source": [
    "model = BaseRandomSearch_v2(n_state, n_action, std=STD)\n",
    "\n",
    "trained_model = train(env, model, TOTAL_STEPS, N_ROLLOUTS, SEED, version='v2')\n",
    "\n",
    "BRS_2_rewards = []\n",
    "for eseed in tqdm(RANDOM_EVAL_SEEDS):\n",
    "    score = evaluate(env, trained_model, EVAL_STEPS, int(eseed))\n",
    "    BRS_2_rewards += [score]"
   ]
  },
  {
   "cell_type": "markdown",
   "id": "3c423a0e",
   "metadata": {},
   "source": [
    "## BRS_2_RS"
   ]
  },
  {
   "cell_type": "code",
   "execution_count": 10,
   "id": "983379de",
   "metadata": {},
   "outputs": [
    {
     "data": {
      "application/vnd.jupyter.widget-view+json": {
       "model_id": "96e2cced30ea496991b8fb0fbdf46cb6",
       "version_major": 2,
       "version_minor": 0
      },
      "text/plain": [
       "  0%|          | 0/10000 [00:00<?, ?it/s]"
      ]
     },
     "metadata": {},
     "output_type": "display_data"
    },
    {
     "data": {
      "application/vnd.jupyter.widget-view+json": {
       "model_id": "4584e2115bb94aaf9a7afba578f22680",
       "version_major": 2,
       "version_minor": 0
      },
      "text/plain": [
       "  0%|          | 0/1000 [00:00<?, ?it/s]"
      ]
     },
     "metadata": {},
     "output_type": "display_data"
    }
   ],
   "source": [
    "model = BRS_v2_RS(n_state, n_action, std=STD, n_samples=N_SAMPLES_UPDATE)\n",
    "\n",
    "trained_model = train(env, model, TOTAL_STEPS, N_ROLLOUTS, SEED, version='v2')\n",
    "\n",
    "BRS_2_RS_rewards = []\n",
    "for eseed in tqdm(RANDOM_EVAL_SEEDS):\n",
    "    score = evaluate(env, trained_model, EVAL_STEPS, int(eseed))\n",
    "    BRS_2_RS_rewards += [score]"
   ]
  },
  {
   "cell_type": "markdown",
   "id": "51cffe11",
   "metadata": {},
   "source": [
    "## BRS_2_SS"
   ]
  },
  {
   "cell_type": "code",
   "execution_count": 11,
   "id": "3872f261",
   "metadata": {},
   "outputs": [
    {
     "data": {
      "application/vnd.jupyter.widget-view+json": {
       "model_id": "0d04e0e863ad4d309c082008d64219cd",
       "version_major": 2,
       "version_minor": 0
      },
      "text/plain": [
       "  0%|          | 0/10000 [00:00<?, ?it/s]"
      ]
     },
     "metadata": {},
     "output_type": "display_data"
    },
    {
     "data": {
      "application/vnd.jupyter.widget-view+json": {
       "model_id": "8e95a525fccc403b868b9a46a9f55d42",
       "version_major": 2,
       "version_minor": 0
      },
      "text/plain": [
       "  0%|          | 0/1000 [00:00<?, ?it/s]"
      ]
     },
     "metadata": {},
     "output_type": "display_data"
    }
   ],
   "source": [
    "model = BRS_v2_SS(n_state, n_action, std=STD, n_samples=N_SAMPLES_UPDATE)\n",
    "\n",
    "trained_model = train(env, model, TOTAL_STEPS, N_ROLLOUTS, SEED, version='v2')\n",
    "\n",
    "BRS_2_SS_rewards = []\n",
    "for eseed in tqdm(RANDOM_EVAL_SEEDS):\n",
    "    score = evaluate(env, trained_model, EVAL_STEPS, int(eseed))\n",
    "    BRS_2_SS_rewards += [score]"
   ]
  },
  {
   "cell_type": "markdown",
   "id": "db545580",
   "metadata": {},
   "source": [
    "## BRS_2_SSn"
   ]
  },
  {
   "cell_type": "code",
   "execution_count": 12,
   "id": "297749c2",
   "metadata": {},
   "outputs": [
    {
     "data": {
      "application/vnd.jupyter.widget-view+json": {
       "model_id": "4433e333e854480ca25b528971e4428d",
       "version_major": 2,
       "version_minor": 0
      },
      "text/plain": [
       "  0%|          | 0/10000 [00:00<?, ?it/s]"
      ]
     },
     "metadata": {},
     "output_type": "display_data"
    },
    {
     "data": {
      "application/vnd.jupyter.widget-view+json": {
       "model_id": "b930ec62143240dfa01c908d8263e1a0",
       "version_major": 2,
       "version_minor": 0
      },
      "text/plain": [
       "  0%|          | 0/1000 [00:00<?, ?it/s]"
      ]
     },
     "metadata": {},
     "output_type": "display_data"
    }
   ],
   "source": [
    "model = BRS_v2_SSn(n_state, n_action, std=STD, n_samples=N_SAMPLES_UPDATE,\n",
    "                   state_low=state_low, state_high=state_high)\n",
    "\n",
    "trained_model = train(env, model, TOTAL_STEPS, N_ROLLOUTS, SEED, version='v2')\n",
    "\n",
    "BRS_2_SSn_rewards = []\n",
    "for eseed in tqdm(RANDOM_EVAL_SEEDS):\n",
    "    score = evaluate(env, trained_model, EVAL_STEPS, int(eseed))\n",
    "    BRS_2_SSn_rewards += [score]"
   ]
  },
  {
   "cell_type": "code",
   "execution_count": 13,
   "id": "f9bb0a1a",
   "metadata": {},
   "outputs": [
    {
     "data": {
      "image/png": "[encoded data removed]",
      "text/plain": [
       "<Figure size 936x360 with 1 Axes>"
      ]
     },
     "metadata": {
      "needs_background": "light"
     },
     "output_type": "display_data"
    }
   ],
   "source": [
    "brs_data = [BRS_1_rewards, BRS_1_RS_rewards, BRS_1_SS_rewards, BRS_1_SSn_rewards,\n",
    "     BRS_2_rewards, BRS_2_RS_rewards, BRS_2_SS_rewards, BRS_2_SSn_rewards]\n",
    "brs_labels = ['BRS_1', 'BRS_1_RS', 'BRS_1_SS', 'BRS_1_SSn',\n",
    "          'BRS_2', 'BRS_2_RS', 'BRS_2_SS', 'BRS_2_SSn']\n",
    "\n",
    "fig, ax = plt.subplots(figsize=(13,5))\n",
    "b = ax.boxplot(brs_data)\n",
    "\n",
    "ax.set_xlabel('Model')\n",
    "ax.set_ylabel('Reward')\n",
    "ax.set_title('Evaluation reward scores, for BRS models')\n",
    "\n",
    "ax.set_xticklabels(brs_labels)\n",
    "\n",
    "plt.show()\n"
   ]
  },
  {
   "cell_type": "markdown",
   "id": "c39711b1",
   "metadata": {},
   "source": [
    "## ARS_1"
   ]
  },
  {
   "cell_type": "code",
   "execution_count": 14,
   "id": "e3fb7e72",
   "metadata": {},
   "outputs": [
    {
     "data": {
      "application/vnd.jupyter.widget-view+json": {
       "model_id": "e79d9a62950b44eaaa948f3a992d1323",
       "version_major": 2,
       "version_minor": 0
      },
      "text/plain": [
       "  0%|          | 0/10000 [00:00<?, ?it/s]"
      ]
     },
     "metadata": {},
     "output_type": "display_data"
    },
    {
     "name": "stderr",
     "output_type": "stream",
     "text": [
      "/home/ivan/Projects/RL_final/ARS_RL/models.py:345: VisibleDeprecationWarning: Creating an ndarray from ragged nested sequences (which is a list-or-tuple of lists-or-tuples-or ndarrays with different lengths or shapes) is deprecated. If you meant to do this, you must specify 'dtype=object' when creating the ndarray.\n",
      "  b_buffer = np.array(self.buffer)\n"
     ]
    },
    {
     "data": {
      "application/vnd.jupyter.widget-view+json": {
       "model_id": "f8d3b90e5cae46ce9d5af86895c8d80f",
       "version_major": 2,
       "version_minor": 0
      },
      "text/plain": [
       "  0%|          | 0/1000 [00:00<?, ?it/s]"
      ]
     },
     "metadata": {},
     "output_type": "display_data"
    }
   ],
   "source": [
    "model = ARS_v1(n_state, n_action, std=STD, alpha=ALPHA)\n",
    "\n",
    "trained_model_ars1 = train(env, model, TOTAL_STEPS, N_ROLLOUTS, SEED, version='v1')\n",
    "\n",
    "ARS_1_rewards = []\n",
    "for eseed in tqdm(RANDOM_EVAL_SEEDS):\n",
    "    score = evaluate(env, trained_model_ars1, EVAL_STEPS, int(eseed))\n",
    "    ARS_1_rewards += [score]\n"
   ]
  },
  {
   "cell_type": "markdown",
   "id": "13fc8cd3",
   "metadata": {},
   "source": [
    "## ARS_1_RS"
   ]
  },
  {
   "cell_type": "code",
   "execution_count": 15,
   "id": "7be432d8",
   "metadata": {},
   "outputs": [
    {
     "data": {
      "application/vnd.jupyter.widget-view+json": {
       "model_id": "1e4a267f1764450da64b697f9d36fdc1",
       "version_major": 2,
       "version_minor": 0
      },
      "text/plain": [
       "  0%|          | 0/10000 [00:00<?, ?it/s]"
      ]
     },
     "metadata": {},
     "output_type": "display_data"
    },
    {
     "data": {
      "application/vnd.jupyter.widget-view+json": {
       "model_id": "53013256229549889b7a39d457f57e24",
       "version_major": 2,
       "version_minor": 0
      },
      "text/plain": [
       "  0%|          | 0/1000 [00:00<?, ?it/s]"
      ]
     },
     "metadata": {},
     "output_type": "display_data"
    }
   ],
   "source": [
    "model = ARS_v1_RS(n_state, n_action, std=STD, n_samples=N_SAMPLES_UPDATE, alpha=ALPHA)\n",
    "\n",
    "trained_model_ars1rs = train(env, model, TOTAL_STEPS, N_ROLLOUTS, SEED, version='v1')\n",
    "\n",
    "ARS_1_RS_rewards = []\n",
    "for eseed in tqdm(RANDOM_EVAL_SEEDS):\n",
    "    score = evaluate(env, trained_model_ars1rs, EVAL_STEPS, int(eseed))\n",
    "    ARS_1_RS_rewards += [score]\n"
   ]
  },
  {
   "cell_type": "markdown",
   "id": "f1d33c76",
   "metadata": {},
   "source": [
    "## ARS_1_SS"
   ]
  },
  {
   "cell_type": "code",
   "execution_count": 16,
   "id": "e55a3875",
   "metadata": {},
   "outputs": [
    {
     "data": {
      "application/vnd.jupyter.widget-view+json": {
       "model_id": "583ff0f4b38f4b06b630b09ca9a6886f",
       "version_major": 2,
       "version_minor": 0
      },
      "text/plain": [
       "  0%|          | 0/10000 [00:00<?, ?it/s]"
      ]
     },
     "metadata": {},
     "output_type": "display_data"
    },
    {
     "data": {
      "application/vnd.jupyter.widget-view+json": {
       "model_id": "89640491d615403796643e65f875cdc6",
       "version_major": 2,
       "version_minor": 0
      },
      "text/plain": [
       "  0%|          | 0/1000 [00:00<?, ?it/s]"
      ]
     },
     "metadata": {},
     "output_type": "display_data"
    }
   ],
   "source": [
    "model = ARS_v1_SS(n_state, n_action, std=STD, n_samples=N_SAMPLES_UPDATE, alpha=ALPHA)\n",
    "\n",
    "trained_model_ars1ss = train(env, model, TOTAL_STEPS, N_ROLLOUTS, SEED, version='v1')\n",
    "\n",
    "ARS_1_SS_rewards = []\n",
    "for eseed in tqdm(RANDOM_EVAL_SEEDS):\n",
    "    score = evaluate(env, trained_model_ars1ss, EVAL_STEPS, int(eseed))\n",
    "    ARS_1_SS_rewards += [score]\n"
   ]
  },
  {
   "cell_type": "markdown",
   "id": "9463cca6",
   "metadata": {},
   "source": [
    "## ARS_1_SSn"
   ]
  },
  {
   "cell_type": "code",
   "execution_count": 17,
   "id": "39ad51e0",
   "metadata": {},
   "outputs": [
    {
     "data": {
      "application/vnd.jupyter.widget-view+json": {
       "model_id": "9c02c6871fba4ad389ccd35b9b376246",
       "version_major": 2,
       "version_minor": 0
      },
      "text/plain": [
       "  0%|          | 0/10000 [00:00<?, ?it/s]"
      ]
     },
     "metadata": {},
     "output_type": "display_data"
    },
    {
     "data": {
      "application/vnd.jupyter.widget-view+json": {
       "model_id": "459441d7e6234e04beb90bed6a9ba0ef",
       "version_major": 2,
       "version_minor": 0
      },
      "text/plain": [
       "  0%|          | 0/1000 [00:00<?, ?it/s]"
      ]
     },
     "metadata": {},
     "output_type": "display_data"
    }
   ],
   "source": [
    "model = ARS_v1_SSn(n_state, n_action, std=STD, n_samples=N_SAMPLES_UPDATE, alpha=ALPHA,\n",
    "                   state_low=state_low, state_high=state_high)\n",
    "\n",
    "trained_model_ars1ssn = train(env, model, TOTAL_STEPS, N_ROLLOUTS, SEED, version='v1')\n",
    "\n",
    "ARS_1_SSn_rewards = []\n",
    "for eseed in tqdm(RANDOM_EVAL_SEEDS):\n",
    "    score = evaluate(env, trained_model_ars1ssn, EVAL_STEPS, int(eseed))\n",
    "    ARS_1_SSn_rewards += [score]\n"
   ]
  },
  {
   "cell_type": "markdown",
   "id": "75fb09b0",
   "metadata": {},
   "source": [
    "## ARS_2"
   ]
  },
  {
   "cell_type": "code",
   "execution_count": 18,
   "id": "e07fecab",
   "metadata": {},
   "outputs": [
    {
     "data": {
      "application/vnd.jupyter.widget-view+json": {
       "model_id": "7929c6ed78014a0bbeb97a6adaca1178",
       "version_major": 2,
       "version_minor": 0
      },
      "text/plain": [
       "  0%|          | 0/10000 [00:00<?, ?it/s]"
      ]
     },
     "metadata": {},
     "output_type": "display_data"
    },
    {
     "name": "stderr",
     "output_type": "stream",
     "text": [
      "/home/ivan/Projects/RL_final/ARS_RL/models.py:488: VisibleDeprecationWarning: Creating an ndarray from ragged nested sequences (which is a list-or-tuple of lists-or-tuples-or ndarrays with different lengths or shapes) is deprecated. If you meant to do this, you must specify 'dtype=object' when creating the ndarray.\n",
      "  b_buffer = np.array(self.buffer)\n"
     ]
    },
    {
     "data": {
      "application/vnd.jupyter.widget-view+json": {
       "model_id": "215d26e9e00b4688b54dc541e4c559bd",
       "version_major": 2,
       "version_minor": 0
      },
      "text/plain": [
       "  0%|          | 0/1000 [00:00<?, ?it/s]"
      ]
     },
     "metadata": {},
     "output_type": "display_data"
    }
   ],
   "source": [
    "\n",
    "model = ARS_v2(n_state, n_action, std=STD, alpha=ALPHA)\n",
    "\n",
    "trained_model_ars2 = train(env, model, TOTAL_STEPS, N_ROLLOUTS, SEED, version='v2')\n",
    "\n",
    "ARS_2_rewards = []\n",
    "for eseed in tqdm(RANDOM_EVAL_SEEDS):\n",
    "    score = evaluate(env, trained_model_ars2, EVAL_STEPS, int(eseed))\n",
    "    ARS_2_rewards += [score]\n"
   ]
  },
  {
   "cell_type": "markdown",
   "id": "8ddae38a",
   "metadata": {},
   "source": [
    "## ARS_2_RS"
   ]
  },
  {
   "cell_type": "code",
   "execution_count": 19,
   "id": "cab6bc2e",
   "metadata": {},
   "outputs": [
    {
     "data": {
      "application/vnd.jupyter.widget-view+json": {
       "model_id": "915c94bcf8a84beda2542bf5faead344",
       "version_major": 2,
       "version_minor": 0
      },
      "text/plain": [
       "  0%|          | 0/10000 [00:00<?, ?it/s]"
      ]
     },
     "metadata": {},
     "output_type": "display_data"
    },
    {
     "data": {
      "application/vnd.jupyter.widget-view+json": {
       "model_id": "d8918dbc3d354b93a1cf801f9f9bc953",
       "version_major": 2,
       "version_minor": 0
      },
      "text/plain": [
       "  0%|          | 0/1000 [00:00<?, ?it/s]"
      ]
     },
     "metadata": {},
     "output_type": "display_data"
    }
   ],
   "source": [
    "model = ARS_v2_RS(n_state, n_action, std=STD, n_samples=N_SAMPLES_UPDATE, alpha=ALPHA)\n",
    "\n",
    "trained_model_ars2rs = train(env, model, TOTAL_STEPS, N_ROLLOUTS, SEED, version='v2')\n",
    "\n",
    "ARS_2_RS_rewards = []\n",
    "for eseed in tqdm(RANDOM_EVAL_SEEDS):\n",
    "    score = evaluate(env, trained_model_ars2rs, EVAL_STEPS, int(eseed))\n",
    "    ARS_2_RS_rewards += [score]\n"
   ]
  },
  {
   "cell_type": "markdown",
   "id": "bd80f164",
   "metadata": {},
   "source": [
    "## ARS_2_SS "
   ]
  },
  {
   "cell_type": "code",
   "execution_count": 20,
   "id": "1ed9a71a",
   "metadata": {},
   "outputs": [
    {
     "data": {
      "application/vnd.jupyter.widget-view+json": {
       "model_id": "2785f77140fd407eb2bcaf56c76e14a8",
       "version_major": 2,
       "version_minor": 0
      },
      "text/plain": [
       "  0%|          | 0/10000 [00:00<?, ?it/s]"
      ]
     },
     "metadata": {},
     "output_type": "display_data"
    },
    {
     "data": {
      "application/vnd.jupyter.widget-view+json": {
       "model_id": "96dabc08a64a4512bfc48f683d138f4b",
       "version_major": 2,
       "version_minor": 0
      },
      "text/plain": [
       "  0%|          | 0/1000 [00:00<?, ?it/s]"
      ]
     },
     "metadata": {},
     "output_type": "display_data"
    }
   ],
   "source": [
    "model = ARS_v2_SS(n_state, n_action, std=STD, n_samples=N_SAMPLES_UPDATE, alpha=ALPHA)\n",
    "\n",
    "trained_model_ars2ss = train(env, model, TOTAL_STEPS, N_ROLLOUTS, SEED, version='v2')\n",
    "\n",
    "ARS_2_SS_rewards = []\n",
    "for eseed in tqdm(RANDOM_EVAL_SEEDS):\n",
    "    score = evaluate(env, trained_model_ars2ss, EVAL_STEPS, int(eseed))\n",
    "    ARS_2_SS_rewards += [score]\n"
   ]
  },
  {
   "cell_type": "markdown",
   "id": "cf834cd4",
   "metadata": {},
   "source": [
    "## ARS_2_SSn"
   ]
  },
  {
   "cell_type": "code",
   "execution_count": 21,
   "id": "76a1081d",
   "metadata": {},
   "outputs": [
    {
     "data": {
      "application/vnd.jupyter.widget-view+json": {
       "model_id": "9d225a99c63143ce98d98b8d59bf10fb",
       "version_major": 2,
       "version_minor": 0
      },
      "text/plain": [
       "  0%|          | 0/10000 [00:00<?, ?it/s]"
      ]
     },
     "metadata": {},
     "output_type": "display_data"
    },
    {
     "data": {
      "application/vnd.jupyter.widget-view+json": {
       "model_id": "7fac46502a74400981bc06986273db75",
       "version_major": 2,
       "version_minor": 0
      },
      "text/plain": [
       "  0%|          | 0/1000 [00:00<?, ?it/s]"
      ]
     },
     "metadata": {},
     "output_type": "display_data"
    }
   ],
   "source": [
    "model = ARS_v2_SSn(n_state, n_action, std=STD, n_samples=N_SAMPLES_UPDATE, alpha=ALPHA,\n",
    "                  state_low=state_low, state_high=state_high)\n",
    "\n",
    "trained_model_ars2ssn = train(env, model, TOTAL_STEPS, N_ROLLOUTS, SEED, version='v2')\n",
    "\n",
    "ARS_2_SSn_rewards = []\n",
    "for eseed in tqdm(RANDOM_EVAL_SEEDS):\n",
    "    score = evaluate(env, trained_model_ars2ssn, EVAL_STEPS, int(eseed))\n",
    "    ARS_2_SSn_rewards += [score]\n"
   ]
  },
  {
   "cell_type": "code",
   "execution_count": 22,
   "id": "cb39ba08",
   "metadata": {},
   "outputs": [
    {
     "data": {
      "image/png": "[encoded data removed]",
      "text/plain": [
       "<Figure size 936x360 with 1 Axes>"
      ]
     },
     "metadata": {
      "needs_background": "light"
     },
     "output_type": "display_data"
    }
   ],
   "source": [
    "ars_data = [ARS_1_rewards, ARS_1_RS_rewards, ARS_1_SS_rewards, ARS_1_SSn_rewards,\n",
    "     ARS_2_rewards, ARS_2_RS_rewards, ARS_2_SS_rewards, ARS_2_SSn_rewards]\n",
    "ars_labels = ['ARS_1', 'ARS_1_RS', 'ARS_1_SS', 'ARS_1_SSn',\n",
    "          'ARS_2', 'ARS_2_RS', 'ARS_2_SS', 'ARS_2_SSn']\n",
    "\n",
    "fig, ax = plt.subplots(figsize=(13,5))\n",
    "b = ax.boxplot(ars_data)\n",
    "\n",
    "ax.set_xlabel('Model')\n",
    "ax.set_ylabel('Reward')\n",
    "ax.set_title('Evaluation reward scores, for ARS models')\n",
    "\n",
    "ax.set_xticklabels(ars_labels)\n",
    "\n",
    "plt.show()\n"
   ]
  },
  {
   "cell_type": "code",
   "execution_count": 23,
   "id": "240df97d",
   "metadata": {},
   "outputs": [
    {
     "data": {
      "image/png": "[encoded data removed]",
      "text/plain": [
       "<Figure size 936x360 with 1 Axes>"
      ]
     },
     "metadata": {
      "needs_background": "light"
     },
     "output_type": "display_data"
    }
   ],
   "source": [
    "model_list = [trained_model_ars1, trained_model_ars1rs, trained_model_ars1ss, trained_model_ars1ssn,\n",
    "              trained_model_ars2, trained_model_ars2rs, trained_model_ars2ss, trained_model_ars2ssn]\n",
    "\n",
    "R = []\n",
    "\n",
    "for i, model in enumerate(model_list):\n",
    "    R += [model.std_rewards_over_training]\n",
    "\n",
    "\n",
    "fig, ax = plt.subplots(figsize=(13,5))\n",
    "b = ax.boxplot(R)\n",
    "ax.set_xticklabels(ars_labels)\n",
    "    \n",
    "ax.set_title('Variance of the rewards used for update')\n",
    "plt.show()"
   ]
  },
  {
   "cell_type": "markdown",
   "id": "e230b86e",
   "metadata": {},
   "source": [
    "Plot: distributions of accumulated rewards by each model during evaluation"
   ]
  },
  {
   "cell_type": "code",
   "execution_count": 24,
   "id": "42e3dae0",
   "metadata": {},
   "outputs": [
    {
     "data": {
      "image/png": "[encoded data removed]",
      "text/plain": [
       "<Figure size 1152x360 with 1 Axes>"
      ]
     },
     "metadata": {
      "needs_background": "light"
     },
     "output_type": "display_data"
    }
   ],
   "source": [
    "D = brs_data + ars_data\n",
    "labels = brs_labels + ars_labels\n",
    "\n",
    "fig, ax = plt.subplots(figsize=(16,5))\n",
    "b = ax.boxplot(D)\n",
    "\n",
    "ax.set_xlabel('Model')\n",
    "ax.set_ylabel('Reward')\n",
    "ax.set_title('Evaluation reward scores, for tested models')\n",
    "\n",
    "ax.set_xticklabels(labels)\n",
    "plt.xticks(rotation = 45)\n",
    "\n",
    "plt.show()\n"
   ]
  },
  {
   "cell_type": "code",
   "execution_count": null,
   "id": "ef159f44",
   "metadata": {},
   "outputs": [],
   "source": []
  }
 ],
 "metadata": {
  "kernelspec": {
   "display_name": "Python 3",
   "language": "python",
   "name": "python3"
  },
  "language_info": {
   "codemirror_mode": {
    "name": "ipython",
    "version": 3
   },
   "file_extension": ".py",
   "mimetype": "text/x-python",
   "name": "python",
   "nbconvert_exporter": "python",
   "pygments_lexer": "ipython3",
   "version": "3.9.12"
  }
 },
 "nbformat": 4,
 "nbformat_minor": 5
}
