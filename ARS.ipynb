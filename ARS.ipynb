{
 "cells": [
  {
   "cell_type": "code",
   "execution_count": 1,
   "id": "a8c52f3d-7dc8-4d16-b1cc-771e42ba2ea4",
   "metadata": {},
   "outputs": [],
   "source": [
    "import matplotlib.pyplot as plt\n",
    "from tqdm import tqdm\n",
    "import numpy as np\n"
   ]
  },
  {
   "cell_type": "markdown",
   "id": "f5aed910-42cf-4d73-82cb-231817699486",
   "metadata": {},
   "source": [
    "List of things to check:\n",
    "- VARIABLES:\n",
    "    - Random seed vs total_mean_reward(TMR)\n",
    "    - N_ROLLOUTS vs TMR\n",
    "    - TOTAL_STEPS vs TMR\n",
    "    - b=2\n",
    "    - alpha=1e-3 \n",
    "    - std=1\n",
    "    - v=1e-3\n",
    "    - States norm (minmax)\n",
    "COMPONENTS:"
   ]
  },
  {
   "cell_type": "code",
   "execution_count": 2,
   "id": "734ad0f4-b99c-4243-a61f-8b121838233d",
   "metadata": {},
   "outputs": [],
   "source": [
    "# Random seed \n",
    "SEED = 42\n",
    "np.random.seed(SEED)\n",
    "\n",
    "# Number of steps to wait until next update \n",
    "N_ROLLOUTS = 3\n",
    "# Number of total steps of env simulation\n",
    "TOTAL_STEPS = 100\n",
    "# Number of evaluation stapes \n",
    "EVAL_STEPS = 1000"
   ]
  },
  {
   "cell_type": "code",
   "execution_count": 3,
   "id": "567b9802-4a4f-4c25-b095-1ad791c1c793",
   "metadata": {},
   "outputs": [],
   "source": [
    "class Linear_model:\n",
    "    def __init__(self, n_state, n_action): \n",
    "        # M stands for parameters of this model\n",
    "        self.M = np.zeros((n_action, n_state))\n",
    "        \n",
    "    def __call__(self, state, v=0, noise=1):\n",
    "        '''\n",
    "        v - [0.,1.] controls how much noise we adding to our parameters\n",
    "        noise - noise of same shape as M\n",
    "        '''\n",
    "        action = (self.M + v*noise) @ state\n",
    "        return action"
   ]
  },
  {
   "cell_type": "code",
   "execution_count": 4,
   "id": "2c46f2c8-d769-4afb-968f-88682d2bfdb0",
   "metadata": {},
   "outputs": [],
   "source": [
    "class ARS:\n",
    "    def __init__(self, n_state, n_action, b=2, alpha=1e-3, std=1, v=1e-3,\n",
    "                state_high=None, state_low=None):\n",
    "        self.policy = Linear_model(n_state, n_action)\n",
    "        self.buffer = []\n",
    "        self.alpha = alpha\n",
    "        self.std = std\n",
    "        self.v = v\n",
    "        # b - number of b top-performing directions \n",
    "        self.b = b\n",
    "        \n",
    "        self.state_low = state_low \n",
    "        self.state_high = state_high\n",
    "        \n",
    "    def learn(self):\n",
    "        # sort noise permutations by reward they achive, \n",
    "        # and select only high reward ones\n",
    "        b_buffer = self.sort_directions()\n",
    "        \n",
    "        reward_std = b_buffer[:, -2:].std()\n",
    "        norm = self.alpha / (self.b * reward_std)\n",
    "        \n",
    "        reward_sum = 0\n",
    "        for step in b_buffer:\n",
    "            # ( R+ - R- ) * noise\n",
    "            reward_sum += (step[-2] - step[-1]) * step[-3]\n",
    "    \n",
    "        self.policy.M = self.policy.M + (norm * reward_sum)\n",
    "        \n",
    "        # reset buffer \n",
    "        self.buffer = []\n",
    "    \n",
    "    def sort_directions(self):\n",
    "        buffer = np.array(self.buffer, dtype=object)\n",
    "        b_rewards = buffer[:, -2:].sum(-1)\n",
    "        \n",
    "        # idxs from low to high\n",
    "        b_idxs = np.argsort(b_rewards)\n",
    "        b_buffer = buffer[b_idxs][-self.b:]\n",
    "        \n",
    "        # print(buffer[b_idxs][:-self.b][:,-2:].mean(), buffer[b_idxs][-self.b:][:,-2:].mean())\n",
    "        return b_buffer\n",
    "    \n",
    "    def get_actions(self, state, is_train=False):\n",
    "        if not self.state_high is None:\n",
    "            # MINMAX NORM {value - min}/{max - min}\n",
    "            state = (state - self.state_low)/(self.state_high - self.state_low)\n",
    "            \n",
    "        if is_train:\n",
    "            noise = np.random.normal(0,self.std, size=self.policy.M.shape)\n",
    "            pos_action = self.policy(state,  self.v, noise)\n",
    "            neg_action = self.policy(state, -self.v, noise)\n",
    "            \n",
    "            pos_action = self._remap_actions(pos_action)\n",
    "            neg_action = self._remap_actions(neg_action)\n",
    "            return pos_action, neg_action, noise\n",
    "        else:\n",
    "            action = self.policy(state)\n",
    "            return self._remap_actions(action)\n",
    "            \n",
    "    \n",
    "    def remember(self, memory):\n",
    "        self.buffer.append(memory)\n",
    "        \n",
    "    def _remap_actions(self, action):\n",
    "        return 2 * np.tanh(action)\n",
    "    \n"
   ]
  },
  {
   "cell_type": "code",
   "execution_count": 5,
   "id": "10ac2061-c035-4177-896a-efefede2d83f",
   "metadata": {},
   "outputs": [
    {
     "name": "stderr",
     "output_type": "stream",
     "text": [
      "100%|██████████| 100/100 [00:00<00:00, 1988.18it/s]\n"
     ]
    }
   ],
   "source": [
    "import gym\n",
    "env = gym.make('Pendulum-v1', g=9.82)\n",
    "env.seed(SEED)\n",
    "observation = env.reset()\n",
    "\n",
    "state_high = env.observation_space.high\n",
    "state_low = env.observation_space.low\n",
    "model = ARS(3, 1, b=N_ROLLOUTS, std=1, \n",
    "            state_low=state_low, state_high=state_high)\n",
    "\n",
    "REWARDS = []\n",
    "t_reward = 0\n",
    "for step in tqdm(range(TOTAL_STEPS)):\n",
    "    #env.render()\n",
    "    \n",
    "    for ro in range(N_ROLLOUTS):\n",
    "        pos_action, neg_action, noise = model.get_actions(observation, is_train=True)\n",
    "        pos_observation, pos_reward, pos_done, pos_info = env.step(pos_action)\n",
    "        neg_observation, neg_reward, neg_done, neg_info = env.step(neg_action)\n",
    "\n",
    "        model.remember([pos_action[0], neg_action[0], noise, pos_reward, neg_reward])\n",
    "        t_reward += (pos_reward + neg_reward)/2\n",
    "        observation = env.reset()\n",
    "        #observation = pos_observation if np.random.rand()>0.5 else neg_observation\n",
    "    \n",
    "    # if (pos_done or neg_done):\n",
    "        \n",
    "        \n",
    "    # if (step % N_ROLLOUTS == 0 and step != 0):\n",
    "    model.learn()\n",
    "    REWARDS.append(t_reward)\n",
    "    t_reward = 0\n",
    "    \n",
    "env.close()"
   ]
  },
  {
   "cell_type": "code",
   "execution_count": 6,
   "id": "94182aa1-d402-48ed-8e33-3808e56f3522",
   "metadata": {},
   "outputs": [
    {
     "data": {
      "text/plain": [
       "array([[ 0.00088557,  0.00168218, -0.00120841]])"
      ]
     },
     "execution_count": 6,
     "metadata": {},
     "output_type": "execute_result"
    }
   ],
   "source": [
    "model.policy.M"
   ]
  },
  {
   "cell_type": "code",
   "execution_count": 7,
   "id": "f144f3f4-1b38-43ab-aaf3-b64c8c356893",
   "metadata": {},
   "outputs": [
    {
     "data": {
      "image/png": "[encoded data removed]",
      "text/plain": [
       "<Figure size 1080x360 with 1 Axes>"
      ]
     },
     "metadata": {
      "needs_background": "light"
     },
     "output_type": "display_data"
    }
   ],
   "source": [
    "plt.figure(figsize=(15,5))\n",
    "plt.plot(REWARDS)\n",
    "plt.title(np.mean(REWARDS).round(1))\n",
    "plt.show()"
   ]
  },
  {
   "cell_type": "markdown",
   "id": "d2a139a2-7515-4310-b799-463d68e3bf9c",
   "metadata": {},
   "source": [
    "Test policy"
   ]
  },
  {
   "cell_type": "code",
   "execution_count": 8,
   "id": "e4148428-303d-498f-9d72-2611ffd789d9",
   "metadata": {},
   "outputs": [],
   "source": [
    "meta_data_collector = {}\n",
    "\n",
    "# PARAMETERS\n",
    "\n",
    "# Random seed \n",
    "SEED = 42\n",
    "# Number of steps to wait until next update \n",
    "N_ROLLOUTS = 23\n",
    "# Number of total steps of env simulation\n",
    "TOTAL_STEPS = 1000\n",
    "\n",
    "ALPHA = 1e-3 \n",
    "STD = 1\n",
    "V = 1e-3\n",
    "\n",
    "# Parameters ranges\n",
    "# (min, max, step)\n",
    "SEED_RANGE = (0, 1024, 1)\n",
    "TOTAL_STEPS_RANGE = (1, 1e+5, 1)\n",
    "N_ROLLOUTS_RANGE = (0, TOTAL_STEPS_RANGE[1], 1)\n",
    "ALPHA_RANGE = (0, 1, 1e-3)\n",
    "STD_RANGE = (0, 1, 1e-3)\n",
    "V_RANGE = (0, 1, 1e-3)\n"
   ]
  },
  {
   "cell_type": "code",
   "execution_count": 9,
   "id": "012dc241-d229-4d38-ab6f-d92f471e33c4",
   "metadata": {},
   "outputs": [],
   "source": [
    "env = gym.make('Pendulum-v1', g=9.81)\n",
    "\n",
    "np.random.seed(SEED)\n",
    "env.seed(SEED)\n",
    "\n",
    "observation = env.reset()\n",
    "\n",
    "state_high = env.observation_space.high\n",
    "state_low = env.observation_space.low\n"
   ]
  },
  {
   "cell_type": "code",
   "execution_count": 10,
   "id": "e5a979c0-73f9-417c-965d-3d2fbe03c55b",
   "metadata": {
    "tags": []
   },
   "outputs": [
    {
     "name": "stderr",
     "output_type": "stream",
     "text": [
      "100%|██████████| 1000/1000 [00:00<00:00, 18524.20it/s]"
     ]
    },
    {
     "name": "stdout",
     "output_type": "stream",
     "text": [
      "-6117.20509834359\n"
     ]
    },
    {
     "name": "stderr",
     "output_type": "stream",
     "text": [
      "\n"
     ]
    }
   ],
   "source": [
    "# EVALUATION\n",
    "# env = gym.make('Pendulum-v1', g=9.82)\n",
    "# observation = env.reset()\n",
    "\n",
    "score = 0\n",
    "for step in tqdm(range(EVAL_STEPS)):\n",
    "    #env.render()\n",
    "    \n",
    "    action = model.get_actions(observation)\n",
    "    observation, reward, done, info = env.step(action)\n",
    "    \n",
    "    score += reward\n",
    "    \n",
    "    if done:\n",
    "        observation = env.reset()\n",
    "        \n",
    "env.close()\n",
    "print(score)"
   ]
  },
  {
   "cell_type": "code",
   "execution_count": null,
   "id": "dc054549-0481-4839-ba0d-f2e25c932688",
   "metadata": {},
   "outputs": [],
   "source": []
  },
  {
   "cell_type": "code",
   "execution_count": 1,
   "id": "a9cce374-b465-48b5-87dc-cbf5fc7e0dca",
   "metadata": {},
   "outputs": [],
   "source": [
    "# model = ARS(3, 1, b=N_ROLLOUTS, std=1, \n",
    "#             state_low=state_low, state_high=state_high)\n",
    "\n",
    "# REWARDS = []\n",
    "# t_reward = 0\n",
    "# for step in tqdm(range(TOTAL_STEPS)):\n",
    "#     #env.render()\n",
    "    \n",
    "#     for ro in range(N_ROLLOUTS):\n",
    "#         pos_action, neg_action, noise = model.get_actions(observation, is_train=True)\n",
    "#         pos_observation, pos_reward, pos_done, pos_info = env.step(pos_action)\n",
    "#         neg_observation, neg_reward, neg_done, neg_info = env.step(neg_action)\n",
    "\n",
    "#         model.remember([pos_action[0], neg_action[0], noise, pos_reward, neg_reward])\n",
    "#         t_reward += (pos_reward + neg_reward)/2\n",
    "#         #observation = env.reset()\n",
    "#         observation = pos_observation if np.random.rand()>0.5 else neg_observation\n",
    "\n",
    "#     model.learn()\n",
    "#     REWARDS.append(t_reward)\n",
    "#     t_reward = 0\n",
    "    \n",
    "# env.close()"
   ]
  },
  {
   "cell_type": "code",
   "execution_count": 1,
   "id": "a0de32b3-dea1-4160-87e3-ae8231ce900e",
   "metadata": {},
   "outputs": [],
   "source": [
    "# model.policy(np.array([1,1,0]))"
   ]
  }
 ],
 "metadata": {
  "kernelspec": {
   "display_name": "Python 3",
   "language": "python",
   "name": "python3"
  },
  "language_info": {
   "codemirror_mode": {
    "name": "ipython",
    "version": 3
   },
   "file_extension": ".py",
   "mimetype": "text/x-python",
   "name": "python",
   "nbconvert_exporter": "python",
   "pygments_lexer": "ipython3",
   "version": "3.9.12"
  }
 },
 "nbformat": 4,
 "nbformat_minor": 5
}
