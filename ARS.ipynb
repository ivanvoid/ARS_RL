{
 "cells": [
  {
   "cell_type": "code",
   "execution_count": 1,
   "id": "a8c52f3d-7dc8-4d16-b1cc-771e42ba2ea4",
   "metadata": {},
   "outputs": [],
   "source": [
    "%matplotlib inline\n",
    "import matplotlib.pyplot as plt\n",
    "from tqdm.notebook import tqdm\n",
    "import numpy as np\n",
    "import gym\n",
    "\n",
    "from models import *"
   ]
  },
  {
   "cell_type": "markdown",
   "id": "29024989",
   "metadata": {},
   "source": [
    "## Help functions"
   ]
  },
  {
   "cell_type": "code",
   "execution_count": 2,
   "id": "9a1013b9",
   "metadata": {},
   "outputs": [],
   "source": [
    "def train(env, t_model, total_steps, n_rollouts, tseed, version='v1'):\n",
    "    np.random.seed(tseed)\n",
    "    try:\n",
    "        observation = env.reset(seed=tseed)\n",
    "    except:\n",
    "        env.seed(tseed)\n",
    "        observation = env.reset()\n",
    "        \n",
    "    for step in tqdm(range(total_steps)):\n",
    "        for ro in range(n_rollouts):\n",
    "            pos_action, neg_action, noise = t_model.get_actions(observation, is_train=True)\n",
    "            \n",
    "            pos_observation, pos_reward, pos_done, pos_info = env.step(pos_action)\n",
    "            neg_observation, neg_reward, neg_done, neg_info = env.step(neg_action)\n",
    "            \n",
    "            t_model.remember([pos_action[0], neg_action[0], noise[0], pos_reward, neg_reward])\n",
    "            \n",
    "            if version == 'v2':\n",
    "                t_model.states += pos_observation, neg_observation\n",
    "                \n",
    "        # select next state\n",
    "        action = t_model.get_actions(observation)\n",
    "        observation, _, done, _ = env.step(action)\n",
    "\n",
    "        if (pos_done or neg_done):\n",
    "            observation = env.reset()\n",
    "            \n",
    "        t_model.learn()\n",
    "\n",
    "    env.close()\n",
    "    return t_model"
   ]
  },
  {
   "cell_type": "code",
   "execution_count": 3,
   "id": "7615abfa",
   "metadata": {},
   "outputs": [],
   "source": [
    "def evaluate(env, model, eval_steps, eseed):\n",
    "    np.random.seed(eseed)\n",
    "    try:\n",
    "        observation = env.reset(seed=eseed)\n",
    "    except:\n",
    "        env.seed(eseed)\n",
    "        observation = env.reset()\n",
    "        \n",
    "    score = 0\n",
    "\n",
    "    for step in range(eval_steps):\n",
    "        action = model.get_actions(observation)\n",
    "        observation, reward, done, info = env.step(action)\n",
    "\n",
    "        score += reward\n",
    "\n",
    "        if done:\n",
    "            observation = env.reset()\n",
    "\n",
    "    env.close()\n",
    "    return score"
   ]
  },
  {
   "cell_type": "markdown",
   "id": "d2a139a2-7515-4310-b799-463d68e3bf9c",
   "metadata": {
    "tags": []
   },
   "source": [
    "# Ablation study / models testing"
   ]
  },
  {
   "cell_type": "code",
   "execution_count": 4,
   "id": "fd3c746b",
   "metadata": {},
   "outputs": [],
   "source": [
    "# Random seed\n",
    "SEED = 42\n",
    "# number of training steps\n",
    "TOTAL_STEPS = 10000\n",
    "# Number of rollouts over one state \n",
    "N_ROLLOUTS = 64\n",
    "# How many samples use to do partial buffer update\n",
    "N_SAMPLES_UPDATE = 16\n",
    "# Number of evaluation steps\n",
    "EVAL_STEPS = 5000\n",
    "\n",
    "# exploration noise std, for normal distribution\n",
    "STD = 0.1\n",
    "# LR for ARS update\n",
    "ALPHA = 2e-2 \n",
    "\n",
    "env_id = 0\n",
    "envs = ['Pendulum-v1']\n",
    "\n",
    "np.random.seed(SEED)\n",
    "RANDOM_EVAL_SEEDS = np.random.randint(100000, size=EVAL_STEPS)\n",
    "\n",
    "env = gym.make(envs[env_id])\n",
    "\n",
    "n_action = env.action_space.shape[0]\n",
    "n_state = env.observation_space.shape[0]\n",
    "# print(n_action, n_state)\n",
    "\n",
    "state_high = env.observation_space.high\n",
    "state_low = env.observation_space.low"
   ]
  },
  {
   "cell_type": "markdown",
   "id": "49ace8e7",
   "metadata": {},
   "source": [
    "## BRS_1"
   ]
  },
  {
   "cell_type": "code",
   "execution_count": null,
   "id": "2f796d65",
   "metadata": {
    "scrolled": true
   },
   "outputs": [
    {
     "data": {
      "application/vnd.jupyter.widget-view+json": {
       "model_id": "1e752c10fb5c4035aea3be2b91acc872",
       "version_major": 2,
       "version_minor": 0
      },
      "text/plain": [
       "  0%|          | 0/10000 [00:00<?, ?it/s]"
      ]
     },
     "metadata": {},
     "output_type": "display_data"
    },
    {
     "data": {
      "application/vnd.jupyter.widget-view+json": {
       "model_id": "cba17f61430a46aeb55a3212088616bb",
       "version_major": 2,
       "version_minor": 0
      },
      "text/plain": [
       "  0%|          | 0/5000 [00:00<?, ?it/s]"
      ]
     },
     "metadata": {},
     "output_type": "display_data"
    }
   ],
   "source": [
    "model = BaseRandomSearch(n_state, n_action, std=STD)\n",
    "\n",
    "trained_model = train(env, model, TOTAL_STEPS, N_ROLLOUTS, SEED)\n",
    "\n",
    "BRS_1_rewards = []\n",
    "for eseed in tqdm(RANDOM_EVAL_SEEDS):\n",
    "    score = evaluate(env, trained_model, EVAL_STEPS, int(eseed))\n",
    "    BRS_1_rewards += [score]"
   ]
  },
  {
   "cell_type": "markdown",
   "id": "9757676f",
   "metadata": {},
   "source": [
    "## BRS_1_RS"
   ]
  },
  {
   "cell_type": "code",
   "execution_count": null,
   "id": "e1ac5e21",
   "metadata": {},
   "outputs": [],
   "source": [
    "model = BRS_RS(n_state, n_action, std=STD, n_samples=N_SAMPLES_UPDATE)\n",
    "\n",
    "trained_model = train(env, model, TOTAL_STEPS, N_ROLLOUTS, SEED)\n",
    "\n",
    "BRS_1_RS_rewards = []\n",
    "for eseed in tqdm(RANDOM_EVAL_SEEDS):\n",
    "    score = evaluate(env, trained_model, EVAL_STEPS, int(eseed))\n",
    "    BRS_1_RS_rewards += [score]"
   ]
  },
  {
   "cell_type": "markdown",
   "id": "304b7e0f",
   "metadata": {},
   "source": [
    "## BRS_1_SS"
   ]
  },
  {
   "cell_type": "code",
   "execution_count": null,
   "id": "b94b1e1d",
   "metadata": {},
   "outputs": [],
   "source": [
    "model = BRS_SS(n_state, n_action, std=STD, n_samples=N_SAMPLES_UPDATE)\n",
    "\n",
    "trained_model = train(env, model, TOTAL_STEPS, N_ROLLOUTS, SEED)\n",
    "\n",
    "BRS_1_SS_rewards = []\n",
    "for eseed in tqdm(RANDOM_EVAL_SEEDS):\n",
    "    score = evaluate(env, trained_model, EVAL_STEPS, int(eseed))\n",
    "    BRS_1_SS_rewards += [score]"
   ]
  },
  {
   "cell_type": "markdown",
   "id": "2737a024",
   "metadata": {},
   "source": [
    "## BRS_1_SSn"
   ]
  },
  {
   "cell_type": "code",
   "execution_count": null,
   "id": "c7712a1b",
   "metadata": {},
   "outputs": [],
   "source": [
    "model = BRS_SSn(n_state, n_action, std=STD, n_samples=N_SAMPLES_UPDATE, \n",
    "               state_low=state_low, state_high=state_high)\n",
    "\n",
    "trained_model = train(env, model, TOTAL_STEPS, N_ROLLOUTS, SEED)\n",
    "\n",
    "BRS_1_SSn_rewards = []\n",
    "for eseed in tqdm(RANDOM_EVAL_SEEDS):\n",
    "    score = evaluate(env, trained_model, EVAL_STEPS, int(eseed))\n",
    "    BRS_1_SSn_rewards += [score]"
   ]
  },
  {
   "cell_type": "markdown",
   "id": "32c761a9",
   "metadata": {},
   "source": [
    "## BRS_2"
   ]
  },
  {
   "cell_type": "code",
   "execution_count": null,
   "id": "977eb3cf",
   "metadata": {},
   "outputs": [],
   "source": [
    "model = BaseRandomSearch_v2(n_state, n_action, std=STD)\n",
    "\n",
    "trained_model = train(env, model, TOTAL_STEPS, N_ROLLOUTS, SEED, version='v2')\n",
    "\n",
    "BRS_2_rewards = []\n",
    "for eseed in tqdm(RANDOM_EVAL_SEEDS):\n",
    "    score = evaluate(env, trained_model, EVAL_STEPS, int(eseed))\n",
    "    BRS_2_rewards += [score]"
   ]
  },
  {
   "cell_type": "markdown",
   "id": "3c423a0e",
   "metadata": {},
   "source": [
    "## BRS_2_RS"
   ]
  },
  {
   "cell_type": "code",
   "execution_count": null,
   "id": "983379de",
   "metadata": {},
   "outputs": [],
   "source": [
    "model = BRS_v2_RS(n_state, n_action, std=STD, n_samples=N_SAMPLES_UPDATE)\n",
    "\n",
    "trained_model = train(env, model, TOTAL_STEPS, N_ROLLOUTS, SEED, version='v2')\n",
    "\n",
    "BRS_2_RS_rewards = []\n",
    "for eseed in tqdm(RANDOM_EVAL_SEEDS):\n",
    "    score = evaluate(env, trained_model, EVAL_STEPS, int(eseed))\n",
    "    BRS_2_RS_rewards += [score]"
   ]
  },
  {
   "cell_type": "markdown",
   "id": "51cffe11",
   "metadata": {},
   "source": [
    "## BRS_2_SS"
   ]
  },
  {
   "cell_type": "code",
   "execution_count": null,
   "id": "3872f261",
   "metadata": {},
   "outputs": [],
   "source": [
    "model = BRS_v2_SS(n_state, n_action, std=STD, n_samples=N_SAMPLES_UPDATE)\n",
    "\n",
    "trained_model = train(env, model, TOTAL_STEPS, N_ROLLOUTS, SEED, version='v2')\n",
    "\n",
    "BRS_2_SS_rewards = []\n",
    "for eseed in tqdm(RANDOM_EVAL_SEEDS):\n",
    "    score = evaluate(env, trained_model, EVAL_STEPS, int(eseed))\n",
    "    BRS_2_SS_rewards += [score]"
   ]
  },
  {
   "cell_type": "markdown",
   "id": "f63c96e2",
   "metadata": {},
   "source": [
    "## BRS_2_SSn"
   ]
  },
  {
   "cell_type": "code",
   "execution_count": null,
   "id": "491c7851",
   "metadata": {},
   "outputs": [],
   "source": [
    "model = BRS_v2_SSn(n_state, n_action, std=STD, n_samples=N_SAMPLES_UPDATE,\n",
    "                   state_low=state_low, state_high=state_high)\n",
    "\n",
    "trained_model = train(env, model, TOTAL_STEPS, N_ROLLOUTS, SEED, version='v2')\n",
    "\n",
    "BRS_2_SSn_rewards = []\n",
    "for eseed in tqdm(RANDOM_EVAL_SEEDS):\n",
    "    score = evaluate(env, trained_model, EVAL_STEPS, int(eseed))\n",
    "    BRS_2_SSn_rewards += [score]"
   ]
  },
  {
   "cell_type": "code",
   "execution_count": null,
   "id": "56d476e3",
   "metadata": {},
   "outputs": [],
   "source": [
    "brs_data = [BRS_1_rewards, BRS_1_RS_rewards, BRS_1_SS_rewards, BRS_1_SSn_rewards,\n",
    "     BRS_2_rewards, BRS_2_RS_rewards, BRS_2_SS_rewards, BRS_2_SSn_rewards]\n",
    "brs_labels = ['BRS_1', 'BRS_1_RS', 'BRS_1_SS', 'BRS_1_SSn',\n",
    "          'BRS_2', 'BRS_2_RS', 'BRS_2_SS', 'BRS_2_SSn']\n",
    "\n",
    "fig, ax = plt.subplots(figsize=(13,5))\n",
    "b = ax.boxplot(brs_data)\n",
    "\n",
    "ax.set_xlabel('Model')\n",
    "ax.set_ylabel('Reward')\n",
    "ax.set_title('Evaluation reward scores, for BRS models')\n",
    "\n",
    "ax.set_xticklabels(brs_labels)\n",
    "\n",
    "plt.show()\n"
   ]
  },
  {
   "cell_type": "markdown",
   "id": "c39711b1",
   "metadata": {},
   "source": [
    "## ARS_1"
   ]
  },
  {
   "cell_type": "code",
   "execution_count": null,
   "id": "e3fb7e72",
   "metadata": {},
   "outputs": [],
   "source": [
    "model = ARS_v1(n_state, n_action, std=STD, alpha=ALPHA)\n",
    "\n",
    "trained_model_ars1 = train(env, model, TOTAL_STEPS, N_ROLLOUTS, SEED, version='v1')\n",
    "\n",
    "ARS_1_rewards = []\n",
    "for eseed in tqdm(RANDOM_EVAL_SEEDS):\n",
    "    score = evaluate(env, trained_model_ars1, EVAL_STEPS, int(eseed))\n",
    "    ARS_1_rewards += [score]\n"
   ]
  },
  {
   "cell_type": "markdown",
   "id": "854d4dc1",
   "metadata": {},
   "source": [
    "## ARS_1_RS"
   ]
  },
  {
   "cell_type": "code",
   "execution_count": null,
   "id": "83cab0ce",
   "metadata": {},
   "outputs": [],
   "source": [
    "model = ARS_v1_RS(n_state, n_action, std=STD, n_samples=N_SAMPLES_UPDATE, alpha=ALPHA)\n",
    "\n",
    "trained_model_ars1rs = train(env, model, TOTAL_STEPS, N_ROLLOUTS, SEED, version='v1')\n",
    "\n",
    "ARS_1_RS_rewards = []\n",
    "for eseed in tqdm(RANDOM_EVAL_SEEDS):\n",
    "    score = evaluate(env, trained_model_ars1rs, EVAL_STEPS, int(eseed))\n",
    "    ARS_1_RS_rewards += [score]\n"
   ]
  },
  {
   "cell_type": "markdown",
   "id": "d43dbfeb",
   "metadata": {},
   "source": [
    "## ARS_1_SS"
   ]
  },
  {
   "cell_type": "code",
   "execution_count": null,
   "id": "cb240b55",
   "metadata": {},
   "outputs": [],
   "source": [
    "model = ARS_v1_SS(n_state, n_action, std=STD, n_samples=N_SAMPLES_UPDATE, alpha=ALPHA)\n",
    "\n",
    "trained_model_ars1ss = train(env, model, TOTAL_STEPS, N_ROLLOUTS, SEED, version='v1')\n",
    "\n",
    "ARS_1_SS_rewards = []\n",
    "for eseed in tqdm(RANDOM_EVAL_SEEDS):\n",
    "    score = evaluate(env, trained_model_ars1ss, EVAL_STEPS, int(eseed))\n",
    "    ARS_1_SS_rewards += [score]\n"
   ]
  },
  {
   "cell_type": "markdown",
   "id": "484a9e14",
   "metadata": {},
   "source": [
    "## ARS_1_SSn"
   ]
  },
  {
   "cell_type": "code",
   "execution_count": null,
   "id": "eaa1f90f",
   "metadata": {},
   "outputs": [],
   "source": [
    "model = ARS_v1_SSn(n_state, n_action, std=STD, n_samples=N_SAMPLES_UPDATE, alpha=ALPHA,\n",
    "                   state_low=state_low, state_high=state_high)\n",
    "\n",
    "trained_model_ars1ssn = train(env, model, TOTAL_STEPS, N_ROLLOUTS, SEED, version='v1')\n",
    "\n",
    "ARS_1_SSn_rewards = []\n",
    "for eseed in tqdm(RANDOM_EVAL_SEEDS):\n",
    "    score = evaluate(env, trained_model_ars1ssn, EVAL_STEPS, int(eseed))\n",
    "    ARS_1_SSn_rewards += [score]\n"
   ]
  },
  {
   "cell_type": "markdown",
   "id": "49c9a543",
   "metadata": {},
   "source": [
    "## ARS_2"
   ]
  },
  {
   "cell_type": "code",
   "execution_count": null,
   "id": "abe0dfe9",
   "metadata": {},
   "outputs": [],
   "source": [
    "\n",
    "model = ARS_v2(n_state, n_action, std=STD, alpha=ALPHA)\n",
    "\n",
    "trained_model_ars2 = train(env, model, TOTAL_STEPS, N_ROLLOUTS, SEED, version='v2')\n",
    "\n",
    "ARS_2_rewards = []\n",
    "for eseed in tqdm(RANDOM_EVAL_SEEDS):\n",
    "    score = evaluate(env, trained_model_ars2, EVAL_STEPS, int(eseed))\n",
    "    ARS_2_rewards += [score]\n"
   ]
  },
  {
   "cell_type": "markdown",
   "id": "4072f451",
   "metadata": {},
   "source": [
    "## ARS_2_RS"
   ]
  },
  {
   "cell_type": "code",
   "execution_count": null,
   "id": "5c1acde5",
   "metadata": {},
   "outputs": [],
   "source": [
    "model = ARS_v2_RS(n_state, n_action, std=STD, n_samples=N_SAMPLES_UPDATE, alpha=ALPHA)\n",
    "\n",
    "trained_model_ars2rs = train(env, model, TOTAL_STEPS, N_ROLLOUTS, SEED, version='v2')\n",
    "\n",
    "ARS_2_RS_rewards = []\n",
    "for eseed in tqdm(RANDOM_EVAL_SEEDS):\n",
    "    score = evaluate(env, trained_model_ars2rs, EVAL_STEPS, int(eseed))\n",
    "    ARS_2_RS_rewards += [score]\n"
   ]
  },
  {
   "cell_type": "markdown",
   "id": "1e9b0bb0",
   "metadata": {},
   "source": [
    "## ARS_2_SS "
   ]
  },
  {
   "cell_type": "code",
   "execution_count": null,
   "id": "fe7b2e96",
   "metadata": {},
   "outputs": [],
   "source": [
    "model = ARS_v2_SS(n_state, n_action, std=STD, n_samples=N_SAMPLES_UPDATE, alpha=ALPHA)\n",
    "\n",
    "trained_model_ars2ss = train(env, model, TOTAL_STEPS, N_ROLLOUTS, SEED, version='v2')\n",
    "\n",
    "ARS_2_SS_rewards = []\n",
    "for eseed in tqdm(RANDOM_EVAL_SEEDS):\n",
    "    score = evaluate(env, trained_model_ars2ss, EVAL_STEPS, int(eseed))\n",
    "    ARS_2_SS_rewards += [score]\n"
   ]
  },
  {
   "cell_type": "markdown",
   "id": "e18d151c",
   "metadata": {},
   "source": [
    "## ARS_2_SSn"
   ]
  },
  {
   "cell_type": "code",
   "execution_count": null,
   "id": "2c960886",
   "metadata": {},
   "outputs": [],
   "source": [
    "model = ARS_v2_SSn(n_state, n_action, std=STD, n_samples=N_SAMPLES_UPDATE, alpha=ALPHA,\n",
    "                  state_low=state_low, state_high=state_high)\n",
    "\n",
    "trained_model_ars2ssn = train(env, model, TOTAL_STEPS, N_ROLLOUTS, SEED, version='v2')\n",
    "\n",
    "ARS_2_SSn_rewards = []\n",
    "for eseed in tqdm(RANDOM_EVAL_SEEDS):\n",
    "    score = evaluate(env, trained_model_ars2ssn, EVAL_STEPS, int(eseed))\n",
    "    ARS_2_SSn_rewards += [score]\n"
   ]
  },
  {
   "cell_type": "code",
   "execution_count": null,
   "id": "065def9c",
   "metadata": {},
   "outputs": [],
   "source": [
    "ars_data = [ARS_1_rewards, ARS_1_RS_rewards, ARS_1_SS_rewards, ARS_1_SSn_rewards,\n",
    "     ARS_2_rewards, ARS_2_RS_rewards, ARS_2_SS_rewards, ARS_2_SSn_rewards]\n",
    "ars_labels = ['ARS_1', 'ARS_1_RS', 'ARS_1_SS', 'ARS_1_SSn',\n",
    "          'ARS_2', 'ARS_2_RS', 'ARS_2_SS', 'ARS_2_SSn']\n",
    "\n",
    "fig, ax = plt.subplots(figsize=(13,5))\n",
    "b = ax.boxplot(ars_data)\n",
    "\n",
    "ax.set_xlabel('Model')\n",
    "ax.set_ylabel('Reward')\n",
    "ax.set_title('Evaluation reward scores, for ARS models')\n",
    "\n",
    "ax.set_xticklabels(ars_labels)\n",
    "\n",
    "plt.show()\n"
   ]
  },
  {
   "cell_type": "code",
   "execution_count": null,
   "id": "76d5dac0",
   "metadata": {},
   "outputs": [],
   "source": [
    "model_list = [trained_model_ars1, trained_model_ars1rs, trained_model_ars1ss, trained_model_ars1ssn,\n",
    "              trained_model_ars2, trained_model_ars2rs, trained_model_ars2ss, trained_model_ars2ssn]\n",
    "\n",
    "R = []\n",
    "\n",
    "for i, model in enumerate(model_list):\n",
    "    R += [model.std_rewards_over_training]\n",
    "\n",
    "\n",
    "fig, ax = plt.subplots(figsize=(13,5))\n",
    "b = ax.boxplot(R)\n",
    "ax.set_xticklabels(ars_labels)\n",
    "    \n",
    "ax.set_title('Variance of the rewards used for update')\n",
    "plt.show()"
   ]
  },
  {
   "cell_type": "code",
   "execution_count": null,
   "id": "2136ee57",
   "metadata": {},
   "outputs": [],
   "source": []
  },
  {
   "cell_type": "code",
   "execution_count": null,
   "id": "e56f8b98",
   "metadata": {},
   "outputs": [],
   "source": [
    "D = brs_data + ars_data\n",
    "labels = brs_labels + ars_labels\n",
    "\n",
    "fig, ax = plt.subplots(figsize=(16,5))\n",
    "b = ax.boxplot(D)\n",
    "\n",
    "ax.set_xlabel('Model')\n",
    "ax.set_ylabel('Reward')\n",
    "ax.set_title('Evaluation reward scores, for tested models')\n",
    "\n",
    "ax.set_xticklabels(labels)\n",
    "plt.xticks(rotation = 45)\n",
    "\n",
    "plt.show()\n"
   ]
  },
  {
   "cell_type": "code",
   "execution_count": null,
   "id": "cec63582",
   "metadata": {},
   "outputs": [],
   "source": []
  }
 ],
 "metadata": {
  "kernelspec": {
   "display_name": "Python 3",
   "language": "python",
   "name": "python3"
  },
  "language_info": {
   "codemirror_mode": {
    "name": "ipython",
    "version": 3
   },
   "file_extension": ".py",
   "mimetype": "text/x-python",
   "name": "python",
   "nbconvert_exporter": "python",
   "pygments_lexer": "ipython3",
   "version": "3.9.12"
  }
 },
 "nbformat": 4,
 "nbformat_minor": 5
}
