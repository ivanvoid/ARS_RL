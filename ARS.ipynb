{
 "cells": [
  {
   "cell_type": "code",
   "execution_count": 1,
   "id": "a8c52f3d-7dc8-4d16-b1cc-771e42ba2ea4",
   "metadata": {},
   "outputs": [],
   "source": [
    "%matplotlib inline\n",
    "import matplotlib.pyplot as plt\n",
    "from tqdm.notebook import tqdm\n",
    "import numpy as np\n",
    "import gym\n",
    "\n",
    "from models import *"
   ]
  },
  {
   "cell_type": "markdown",
   "id": "29024989",
   "metadata": {},
   "source": [
    "## Help functions"
   ]
  },
  {
   "cell_type": "code",
   "execution_count": 2,
   "id": "9a1013b9",
   "metadata": {},
   "outputs": [],
   "source": [
    "def train(env, t_model, total_steps, n_rollouts, tseed, version='v1'):\n",
    "    np.random.seed(tseed)\n",
    "    try:\n",
    "        observation = env.reset(seed=tseed)\n",
    "    except:\n",
    "        env.seed(tseed)\n",
    "        observation = env.reset()\n",
    "        \n",
    "    for step in tqdm(range(total_steps)):\n",
    "        for ro in range(n_rollouts):\n",
    "            pos_action, neg_action, noise = t_model.get_actions(observation, is_train=True)\n",
    "            \n",
    "            pos_observation, pos_reward, pos_done, pos_info = env.step(pos_action)\n",
    "            neg_observation, neg_reward, neg_done, neg_info = env.step(neg_action)\n",
    "            \n",
    "            t_model.remember([pos_action[0], neg_action[0], noise[0], pos_reward, neg_reward])\n",
    "            \n",
    "            if version == 'v2':\n",
    "                t_model.states += pos_observation, neg_observation\n",
    "                \n",
    "        # select next state\n",
    "        action = t_model.get_actions(observation)\n",
    "        observation, _, done, _ = env.step(action)\n",
    "\n",
    "        if (pos_done or neg_done):\n",
    "            observation = env.reset()\n",
    "            \n",
    "        t_model.learn()\n",
    "\n",
    "    env.close()\n",
    "    return t_model"
   ]
  },
  {
   "cell_type": "code",
   "execution_count": 3,
   "id": "7615abfa",
   "metadata": {},
   "outputs": [],
   "source": [
    "def evaluate(env, model, eval_steps, eseed):\n",
    "    np.random.seed(eseed)\n",
    "    try:\n",
    "        observation = env.reset(seed=eseed)\n",
    "    except:\n",
    "        env.seed(eseed)\n",
    "        observation = env.reset()\n",
    "        \n",
    "    score = 0\n",
    "\n",
    "    for step in range(eval_steps):\n",
    "        action = model.get_actions(observation)\n",
    "        observation, reward, done, info = env.step(action)\n",
    "\n",
    "        score += reward\n",
    "\n",
    "        if done:\n",
    "            observation = env.reset()\n",
    "\n",
    "    env.close()\n",
    "    return score"
   ]
  },
  {
   "cell_type": "markdown",
   "id": "d2a139a2-7515-4310-b799-463d68e3bf9c",
   "metadata": {
    "tags": []
   },
   "source": [
    "# Ablation study / models testing"
   ]
  },
  {
   "cell_type": "code",
   "execution_count": 4,
   "id": "fd3c746b",
   "metadata": {},
   "outputs": [],
   "source": [
    "# Random seed\n",
    "SEED = 42\n",
    "# number of training steps\n",
    "TOTAL_STEPS = 10000\n",
    "# Number of rollouts over one state \n",
    "N_ROLLOUTS = 64\n",
    "# How many samples use to do partial buffer update\n",
    "N_SAMPLES_UPDATE = 4\n",
    "# Number of evaluation steps\n",
    "EVAL_STEPS = 1000\n",
    "\n",
    "# exploration noise std, for normal distribution\n",
    "STD = 0.1\n",
    "# LR for ARS update\n",
    "ALPHA = 2e-2 \n",
    "\n",
    "env_id = 0\n",
    "envs = ['Pendulum-v1']\n",
    "\n",
    "np.random.seed(SEED)\n",
    "RANDOM_EVAL_SEEDS = np.random.randint(100000, size=EVAL_STEPS)\n",
    "\n",
    "env = gym.make(envs[env_id])\n",
    "\n",
    "n_action = env.action_space.shape[0]\n",
    "n_state = env.observation_space.shape[0]\n",
    "# print(n_action, n_state)\n",
    "\n",
    "state_high = env.observation_space.high\n",
    "state_low = env.observation_space.low"
   ]
  },
  {
   "cell_type": "markdown",
   "id": "49ace8e7",
   "metadata": {},
   "source": [
    "## BRS_1"
   ]
  },
  {
   "cell_type": "code",
   "execution_count": 5,
   "id": "2f796d65",
   "metadata": {
    "scrolled": true
   },
   "outputs": [
    {
     "data": {
      "application/vnd.jupyter.widget-view+json": {
       "model_id": "2b0e455d357042dfa5805dc3b293e7ae",
       "version_major": 2,
       "version_minor": 0
      },
      "text/plain": [
       "  0%|          | 0/10000 [00:00<?, ?it/s]"
      ]
     },
     "metadata": {},
     "output_type": "display_data"
    },
    {
     "data": {
      "application/vnd.jupyter.widget-view+json": {
       "model_id": "05b2b21f65014e5cbe8f53d688eba18b",
       "version_major": 2,
       "version_minor": 0
      },
      "text/plain": [
       "  0%|          | 0/1000 [00:00<?, ?it/s]"
      ]
     },
     "metadata": {},
     "output_type": "display_data"
    }
   ],
   "source": [
    "model = BaseRandomSearch(n_state, n_action, std=STD)\n",
    "\n",
    "trained_model = train(env, model, TOTAL_STEPS, N_ROLLOUTS, SEED)\n",
    "\n",
    "BRS_1_rewards = []\n",
    "for eseed in tqdm(RANDOM_EVAL_SEEDS):\n",
    "    score = evaluate(env, trained_model, EVAL_STEPS, int(eseed))\n",
    "    BRS_1_rewards += [score]"
   ]
  },
  {
   "cell_type": "markdown",
   "id": "9757676f",
   "metadata": {},
   "source": [
    "## BRS_1_RS"
   ]
  },
  {
   "cell_type": "code",
   "execution_count": 6,
   "id": "e1ac5e21",
   "metadata": {},
   "outputs": [
    {
     "data": {
      "application/vnd.jupyter.widget-view+json": {
       "model_id": "3b98d28cfd2d49acb08a014806dfd1c9",
       "version_major": 2,
       "version_minor": 0
      },
      "text/plain": [
       "  0%|          | 0/10000 [00:00<?, ?it/s]"
      ]
     },
     "metadata": {},
     "output_type": "display_data"
    },
    {
     "data": {
      "application/vnd.jupyter.widget-view+json": {
       "model_id": "63633bee1cc84f5bab4dbadeb0394936",
       "version_major": 2,
       "version_minor": 0
      },
      "text/plain": [
       "  0%|          | 0/1000 [00:00<?, ?it/s]"
      ]
     },
     "metadata": {},
     "output_type": "display_data"
    }
   ],
   "source": [
    "model = BRS_RS(n_state, n_action, std=STD, n_samples=N_SAMPLES_UPDATE)\n",
    "\n",
    "trained_model = train(env, model, TOTAL_STEPS, N_ROLLOUTS, SEED)\n",
    "\n",
    "BRS_1_RS_rewards = []\n",
    "for eseed in tqdm(RANDOM_EVAL_SEEDS):\n",
    "    score = evaluate(env, trained_model, EVAL_STEPS, int(eseed))\n",
    "    BRS_1_RS_rewards += [score]"
   ]
  },
  {
   "cell_type": "markdown",
   "id": "304b7e0f",
   "metadata": {},
   "source": [
    "## BRS_1_SS"
   ]
  },
  {
   "cell_type": "code",
   "execution_count": 7,
   "id": "b94b1e1d",
   "metadata": {},
   "outputs": [
    {
     "data": {
      "application/vnd.jupyter.widget-view+json": {
       "model_id": "3b2a643bb98c46c6a610b90bc33965ed",
       "version_major": 2,
       "version_minor": 0
      },
      "text/plain": [
       "  0%|          | 0/10000 [00:00<?, ?it/s]"
      ]
     },
     "metadata": {},
     "output_type": "display_data"
    },
    {
     "data": {
      "application/vnd.jupyter.widget-view+json": {
       "model_id": "734c5d0899194d8eabd180bb055f95ac",
       "version_major": 2,
       "version_minor": 0
      },
      "text/plain": [
       "  0%|          | 0/1000 [00:00<?, ?it/s]"
      ]
     },
     "metadata": {},
     "output_type": "display_data"
    }
   ],
   "source": [
    "model = BRS_SS(n_state, n_action, std=STD, n_samples=N_SAMPLES_UPDATE)\n",
    "\n",
    "trained_model = train(env, model, TOTAL_STEPS, N_ROLLOUTS, SEED)\n",
    "\n",
    "BRS_1_SS_rewards = []\n",
    "for eseed in tqdm(RANDOM_EVAL_SEEDS):\n",
    "    score = evaluate(env, trained_model, EVAL_STEPS, int(eseed))\n",
    "    BRS_1_SS_rewards += [score]"
   ]
  },
  {
   "cell_type": "markdown",
   "id": "84fa0216",
   "metadata": {},
   "source": [
    "## BRS_1_SSn"
   ]
  },
  {
   "cell_type": "code",
   "execution_count": 8,
   "id": "0d105643",
   "metadata": {},
   "outputs": [
    {
     "data": {
      "application/vnd.jupyter.widget-view+json": {
       "model_id": "faf65a7225944ace81d256fa075b524e",
       "version_major": 2,
       "version_minor": 0
      },
      "text/plain": [
       "  0%|          | 0/10000 [00:00<?, ?it/s]"
      ]
     },
     "metadata": {},
     "output_type": "display_data"
    },
    {
     "data": {
      "application/vnd.jupyter.widget-view+json": {
       "model_id": "c1807d5928f743acb1e95151c52a3339",
       "version_major": 2,
       "version_minor": 0
      },
      "text/plain": [
       "  0%|          | 0/1000 [00:00<?, ?it/s]"
      ]
     },
     "metadata": {},
     "output_type": "display_data"
    }
   ],
   "source": [
    "model = BRS_SSn(n_state, n_action, std=STD, n_samples=N_SAMPLES_UPDATE, \n",
    "               state_low=state_low, state_high=state_high)\n",
    "\n",
    "trained_model = train(env, model, TOTAL_STEPS, N_ROLLOUTS, SEED)\n",
    "\n",
    "BRS_1_SSn_rewards = []\n",
    "for eseed in tqdm(RANDOM_EVAL_SEEDS):\n",
    "    score = evaluate(env, trained_model, EVAL_STEPS, int(eseed))\n",
    "    BRS_1_SSn_rewards += [score]"
   ]
  },
  {
   "cell_type": "markdown",
   "id": "32c761a9",
   "metadata": {},
   "source": [
    "## BRS_2"
   ]
  },
  {
   "cell_type": "code",
   "execution_count": 9,
   "id": "977eb3cf",
   "metadata": {},
   "outputs": [
    {
     "data": {
      "application/vnd.jupyter.widget-view+json": {
       "model_id": "8c6396eb96b74ade8e0f7855dc005f9f",
       "version_major": 2,
       "version_minor": 0
      },
      "text/plain": [
       "  0%|          | 0/10000 [00:00<?, ?it/s]"
      ]
     },
     "metadata": {},
     "output_type": "display_data"
    },
    {
     "name": "stderr",
     "output_type": "stream",
     "text": [
      "/home/ivan/Projects/RL_final/ARS_RL/models.py:27: RuntimeWarning: invalid value encountered in sqrt\n",
      "  self.std = np.sqrt(self.sum2/self.n - self.sum1*self.sum1/self.n/self.n)\n"
     ]
    },
    {
     "data": {
      "application/vnd.jupyter.widget-view+json": {
       "model_id": "c1990a6e6c9b4d949854a3faec0315e0",
       "version_major": 2,
       "version_minor": 0
      },
      "text/plain": [
       "  0%|          | 0/1000 [00:00<?, ?it/s]"
      ]
     },
     "metadata": {},
     "output_type": "display_data"
    }
   ],
   "source": [
    "model = BaseRandomSearch_v2(n_state, n_action, std=STD)\n",
    "\n",
    "trained_model = train(env, model, TOTAL_STEPS, N_ROLLOUTS, SEED, version='v2')\n",
    "\n",
    "BRS_2_rewards = []\n",
    "for eseed in tqdm(RANDOM_EVAL_SEEDS):\n",
    "    score = evaluate(env, trained_model, EVAL_STEPS, int(eseed))\n",
    "    BRS_2_rewards += [score]"
   ]
  },
  {
   "cell_type": "markdown",
   "id": "3c423a0e",
   "metadata": {},
   "source": [
    "## BRS_2_RS"
   ]
  },
  {
   "cell_type": "code",
   "execution_count": 10,
   "id": "983379de",
   "metadata": {},
   "outputs": [
    {
     "data": {
      "application/vnd.jupyter.widget-view+json": {
       "model_id": "c067b6c60773423e80cfa8cad1f1b629",
       "version_major": 2,
       "version_minor": 0
      },
      "text/plain": [
       "  0%|          | 0/10000 [00:00<?, ?it/s]"
      ]
     },
     "metadata": {},
     "output_type": "display_data"
    },
    {
     "data": {
      "application/vnd.jupyter.widget-view+json": {
       "model_id": "7b0bc9acbdba4247b0f015cb83617a56",
       "version_major": 2,
       "version_minor": 0
      },
      "text/plain": [
       "  0%|          | 0/1000 [00:00<?, ?it/s]"
      ]
     },
     "metadata": {},
     "output_type": "display_data"
    }
   ],
   "source": [
    "model = BRS_v2_RS(n_state, n_action, std=STD, n_samples=N_SAMPLES_UPDATE)\n",
    "\n",
    "trained_model = train(env, model, TOTAL_STEPS, N_ROLLOUTS, SEED, version='v2')\n",
    "\n",
    "BRS_2_RS_rewards = []\n",
    "for eseed in tqdm(RANDOM_EVAL_SEEDS):\n",
    "    score = evaluate(env, trained_model, EVAL_STEPS, int(eseed))\n",
    "    BRS_2_RS_rewards += [score]"
   ]
  },
  {
   "cell_type": "markdown",
   "id": "51cffe11",
   "metadata": {},
   "source": [
    "## BRS_2_SS"
   ]
  },
  {
   "cell_type": "code",
   "execution_count": 11,
   "id": "3872f261",
   "metadata": {},
   "outputs": [
    {
     "data": {
      "application/vnd.jupyter.widget-view+json": {
       "model_id": "adc14886cb914645ad31b1c447c83ef6",
       "version_major": 2,
       "version_minor": 0
      },
      "text/plain": [
       "  0%|          | 0/10000 [00:00<?, ?it/s]"
      ]
     },
     "metadata": {},
     "output_type": "display_data"
    },
    {
     "data": {
      "application/vnd.jupyter.widget-view+json": {
       "model_id": "65e64373213f406d9fd6220c39ce8e99",
       "version_major": 2,
       "version_minor": 0
      },
      "text/plain": [
       "  0%|          | 0/1000 [00:00<?, ?it/s]"
      ]
     },
     "metadata": {},
     "output_type": "display_data"
    }
   ],
   "source": [
    "model = BRS_v2_SS(n_state, n_action, std=STD, n_samples=N_SAMPLES_UPDATE)\n",
    "\n",
    "trained_model = train(env, model, TOTAL_STEPS, N_ROLLOUTS, SEED, version='v2')\n",
    "\n",
    "BRS_2_SS_rewards = []\n",
    "for eseed in tqdm(RANDOM_EVAL_SEEDS):\n",
    "    score = evaluate(env, trained_model, EVAL_STEPS, int(eseed))\n",
    "    BRS_2_SS_rewards += [score]"
   ]
  },
  {
   "cell_type": "markdown",
   "id": "54e32ce0",
   "metadata": {},
   "source": [
    "## BRS_2_SSn"
   ]
  },
  {
   "cell_type": "code",
   "execution_count": 12,
   "id": "1c66d8e2",
   "metadata": {},
   "outputs": [
    {
     "data": {
      "application/vnd.jupyter.widget-view+json": {
       "model_id": "e495eadb020d4527882d7c1f5a37787c",
       "version_major": 2,
       "version_minor": 0
      },
      "text/plain": [
       "  0%|          | 0/10000 [00:00<?, ?it/s]"
      ]
     },
     "metadata": {},
     "output_type": "display_data"
    },
    {
     "data": {
      "application/vnd.jupyter.widget-view+json": {
       "model_id": "0d7d8075592d4130b35f934672b85607",
       "version_major": 2,
       "version_minor": 0
      },
      "text/plain": [
       "  0%|          | 0/1000 [00:00<?, ?it/s]"
      ]
     },
     "metadata": {},
     "output_type": "display_data"
    }
   ],
   "source": [
    "model = BRS_v2_SSn(n_state, n_action, std=STD, n_samples=N_SAMPLES_UPDATE,\n",
    "                   state_low=state_low, state_high=state_high)\n",
    "\n",
    "trained_model = train(env, model, TOTAL_STEPS, N_ROLLOUTS, SEED, version='v2')\n",
    "\n",
    "BRS_2_SSn_rewards = []\n",
    "for eseed in tqdm(RANDOM_EVAL_SEEDS):\n",
    "    score = evaluate(env, trained_model, EVAL_STEPS, int(eseed))\n",
    "    BRS_2_SSn_rewards += [score]"
   ]
  },
  {
   "cell_type": "code",
   "execution_count": 13,
   "id": "f55c4c32",
   "metadata": {},
   "outputs": [
    {
     "data": {
      "image/png": "[encoded data removed]",
      "text/plain": [
       "<Figure size 936x360 with 1 Axes>"
      ]
     },
     "metadata": {
      "needs_background": "light"
     },
     "output_type": "display_data"
    }
   ],
   "source": [
    "brs_data = [BRS_1_rewards, BRS_1_RS_rewards, BRS_1_SS_rewards, BRS_1_SSn_rewards,\n",
    "     BRS_2_rewards, BRS_2_RS_rewards, BRS_2_SS_rewards, BRS_2_SSn_rewards]\n",
    "brs_labels = ['BRS_1', 'BRS_1_RS', 'BRS_1_SS', 'BRS_1_SSn',\n",
    "          'BRS_2', 'BRS_2_RS', 'BRS_2_SS', 'BRS_2_SSn']\n",
    "\n",
    "fig, ax = plt.subplots(figsize=(13,5))\n",
    "b = ax.boxplot(brs_data)\n",
    "\n",
    "ax.set_xlabel('Model')\n",
    "ax.set_ylabel('Reward')\n",
    "ax.set_title('Evaluation reward scores, for BRS models')\n",
    "\n",
    "ax.set_xticklabels(brs_labels)\n",
    "\n",
    "plt.show()\n"
   ]
  },
  {
   "cell_type": "markdown",
   "id": "c39711b1",
   "metadata": {},
   "source": [
    "## ARS_1"
   ]
  },
  {
   "cell_type": "code",
   "execution_count": 14,
   "id": "e3fb7e72",
   "metadata": {},
   "outputs": [
    {
     "data": {
      "application/vnd.jupyter.widget-view+json": {
       "model_id": "898677824b6b4298ab879364973218c7",
       "version_major": 2,
       "version_minor": 0
      },
      "text/plain": [
       "  0%|          | 0/10000 [00:00<?, ?it/s]"
      ]
     },
     "metadata": {},
     "output_type": "display_data"
    },
    {
     "name": "stderr",
     "output_type": "stream",
     "text": [
      "/home/ivan/Projects/RL_final/ARS_RL/models.py:343: VisibleDeprecationWarning: Creating an ndarray from ragged nested sequences (which is a list-or-tuple of lists-or-tuples-or ndarrays with different lengths or shapes) is deprecated. If you meant to do this, you must specify 'dtype=object' when creating the ndarray.\n",
      "  b_buffer = np.array(self.buffer)\n"
     ]
    },
    {
     "data": {
      "application/vnd.jupyter.widget-view+json": {
       "model_id": "b26c7c21a76a4f9681a7fc4e2c13eee3",
       "version_major": 2,
       "version_minor": 0
      },
      "text/plain": [
       "  0%|          | 0/1000 [00:00<?, ?it/s]"
      ]
     },
     "metadata": {},
     "output_type": "display_data"
    }
   ],
   "source": [
    "model = ARS_v1(n_state, n_action, std=STD, alpha=ALPHA)\n",
    "\n",
    "trained_model_ars1 = train(env, model, TOTAL_STEPS, N_ROLLOUTS, SEED, version='v1')\n",
    "\n",
    "ARS_1_rewards = []\n",
    "for eseed in tqdm(RANDOM_EVAL_SEEDS):\n",
    "    score = evaluate(env, trained_model_ars1, EVAL_STEPS, int(eseed))\n",
    "    ARS_1_rewards += [score]\n"
   ]
  },
  {
   "cell_type": "markdown",
   "id": "f6f763eb",
   "metadata": {},
   "source": [
    "## ARS_1_RS"
   ]
  },
  {
   "cell_type": "code",
   "execution_count": null,
   "id": "79f52ef3",
   "metadata": {},
   "outputs": [
    {
     "data": {
      "application/vnd.jupyter.widget-view+json": {
       "model_id": "fb7799499d5f454795e500d960cb0814",
       "version_major": 2,
       "version_minor": 0
      },
      "text/plain": [
       "  0%|          | 0/10000 [00:00<?, ?it/s]"
      ]
     },
     "metadata": {},
     "output_type": "display_data"
    }
   ],
   "source": [
    "model = ARS_v1_RS(n_state, n_action, std=STD, n_samples=N_SAMPLES_UPDATE, alpha=ALPHA)\n",
    "\n",
    "trained_model_ars1rs = train(env, model, TOTAL_STEPS, N_ROLLOUTS, SEED, version='v1')\n",
    "\n",
    "ARS_1_RS_rewards = []\n",
    "for eseed in tqdm(RANDOM_EVAL_SEEDS):\n",
    "    score = evaluate(env, trained_model_ars1rs, EVAL_STEPS, int(eseed))\n",
    "    ARS_1_RS_rewards += [score]\n"
   ]
  },
  {
   "cell_type": "markdown",
   "id": "a7020ccb",
   "metadata": {},
   "source": [
    "## ARS_1_SS"
   ]
  },
  {
   "cell_type": "code",
   "execution_count": null,
   "id": "0ea4e91b",
   "metadata": {},
   "outputs": [],
   "source": [
    "model = ARS_v1_SS(n_state, n_action, std=STD, n_samples=N_SAMPLES_UPDATE, alpha=ALPHA)\n",
    "\n",
    "trained_model_ars1ss = train(env, model, TOTAL_STEPS, N_ROLLOUTS, SEED, version='v1')\n",
    "\n",
    "ARS_1_SS_rewards = []\n",
    "for eseed in tqdm(RANDOM_EVAL_SEEDS):\n",
    "    score = evaluate(env, trained_model_ars1ss, EVAL_STEPS, int(eseed))\n",
    "    ARS_1_SS_rewards += [score]\n"
   ]
  },
  {
   "cell_type": "markdown",
   "id": "658f521d",
   "metadata": {},
   "source": [
    "## ARS_1_SSn"
   ]
  },
  {
   "cell_type": "code",
   "execution_count": null,
   "id": "a9cd4103",
   "metadata": {},
   "outputs": [],
   "source": [
    "model = ARS_v1_SSn(n_state, n_action, std=STD, n_samples=N_SAMPLES_UPDATE, alpha=ALPHA,\n",
    "                   state_low=state_low, state_high=state_high)\n",
    "\n",
    "trained_model_ars1ssn = train(env, model, TOTAL_STEPS, N_ROLLOUTS, SEED, version='v1')\n",
    "\n",
    "ARS_1_SSn_rewards = []\n",
    "for eseed in tqdm(RANDOM_EVAL_SEEDS):\n",
    "    score = evaluate(env, trained_model_ars1ssn, EVAL_STEPS, int(eseed))\n",
    "    ARS_1_SSn_rewards += [score]\n"
   ]
  },
  {
   "cell_type": "markdown",
   "id": "f01ef3c4",
   "metadata": {},
   "source": [
    "## ARS_2"
   ]
  },
  {
   "cell_type": "code",
   "execution_count": null,
   "id": "2077fcd0",
   "metadata": {},
   "outputs": [],
   "source": [
    "\n",
    "model = ARS_v2(n_state, n_action, std=STD, alpha=ALPHA)\n",
    "\n",
    "trained_model_ars2 = train(env, model, TOTAL_STEPS, N_ROLLOUTS, SEED, version='v2')\n",
    "\n",
    "ARS_2_rewards = []\n",
    "for eseed in tqdm(RANDOM_EVAL_SEEDS):\n",
    "    score = evaluate(env, trained_model_ars2, EVAL_STEPS, int(eseed))\n",
    "    ARS_2_rewards += [score]\n"
   ]
  },
  {
   "cell_type": "markdown",
   "id": "ce6f7a40",
   "metadata": {},
   "source": [
    "## ARS_2_RS"
   ]
  },
  {
   "cell_type": "code",
   "execution_count": null,
   "id": "683b1ca7",
   "metadata": {},
   "outputs": [],
   "source": [
    "model = ARS_v2_RS(n_state, n_action, std=STD, n_samples=N_SAMPLES_UPDATE, alpha=ALPHA)\n",
    "\n",
    "trained_model_ars2rs = train(env, model, TOTAL_STEPS, N_ROLLOUTS, SEED, version='v2')\n",
    "\n",
    "ARS_2_RS_rewards = []\n",
    "for eseed in tqdm(RANDOM_EVAL_SEEDS):\n",
    "    score = evaluate(env, trained_model_ars2rs, EVAL_STEPS, int(eseed))\n",
    "    ARS_2_RS_rewards += [score]\n"
   ]
  },
  {
   "cell_type": "markdown",
   "id": "1ca5b5fb",
   "metadata": {},
   "source": [
    "## ARS_2_SS "
   ]
  },
  {
   "cell_type": "code",
   "execution_count": null,
   "id": "3e95ffcd",
   "metadata": {},
   "outputs": [],
   "source": [
    "model = ARS_v2_SS(n_state, n_action, std=STD, n_samples=N_SAMPLES_UPDATE, alpha=ALPHA)\n",
    "\n",
    "trained_model_ars2ss = train(env, model, TOTAL_STEPS, N_ROLLOUTS, SEED, version='v2')\n",
    "\n",
    "ARS_2_SS_rewards = []\n",
    "for eseed in tqdm(RANDOM_EVAL_SEEDS):\n",
    "    score = evaluate(env, trained_model_ars2ss, EVAL_STEPS, int(eseed))\n",
    "    ARS_2_SS_rewards += [score]\n"
   ]
  },
  {
   "cell_type": "markdown",
   "id": "360db4df",
   "metadata": {},
   "source": [
    "## ARS_2_SSn"
   ]
  },
  {
   "cell_type": "code",
   "execution_count": null,
   "id": "d0cb4816",
   "metadata": {},
   "outputs": [],
   "source": [
    "model = ARS_v2_SSn(n_state, n_action, std=STD, n_samples=N_SAMPLES_UPDATE, alpha=ALPHA,\n",
    "                  state_low=state_low, state_high=state_high)\n",
    "\n",
    "trained_model_ars2ssn = train(env, model, TOTAL_STEPS, N_ROLLOUTS, SEED, version='v2')\n",
    "\n",
    "ARS_2_SSn_rewards = []\n",
    "for eseed in tqdm(RANDOM_EVAL_SEEDS):\n",
    "    score = evaluate(env, trained_model_ars2ssn, EVAL_STEPS, int(eseed))\n",
    "    ARS_2_SSn_rewards += [score]\n"
   ]
  },
  {
   "cell_type": "code",
   "execution_count": null,
   "id": "c720a913",
   "metadata": {},
   "outputs": [],
   "source": [
    "ars_data = [ARS_1_rewards, ARS_1_RS_rewards, ARS_1_SS_rewards, ARS_1_SSn_rewards,\n",
    "     ARS_2_rewards, ARS_2_RS_rewards, ARS_2_SS_rewards, ARS_2_SSn_rewards]\n",
    "ars_labels = ['ARS_1', 'ARS_1_RS', 'ARS_1_SS', 'ARS_1_SSn',\n",
    "          'ARS_2', 'ARS_2_RS', 'ARS_2_SS', 'ARS_2_SSn']\n",
    "\n",
    "fig, ax = plt.subplots(figsize=(13,5))\n",
    "b = ax.boxplot(ars_data)\n",
    "\n",
    "ax.set_xlabel('Model')\n",
    "ax.set_ylabel('Reward')\n",
    "ax.set_title('Evaluation reward scores, for ARS models')\n",
    "\n",
    "ax.set_xticklabels(ars_labels)\n",
    "\n",
    "plt.show()\n"
   ]
  },
  {
   "cell_type": "code",
   "execution_count": null,
   "id": "4642145d",
   "metadata": {},
   "outputs": [],
   "source": [
    "model_list = [trained_model_ars1, trained_model_ars1rs, trained_model_ars1ss, trained_model_ars1ssn,\n",
    "              trained_model_ars2, trained_model_ars2rs, trained_model_ars2ss, trained_model_ars2ssn]\n",
    "\n",
    "R = []\n",
    "\n",
    "for i, model in enumerate(model_list):\n",
    "    R += [model.std_rewards_over_training]\n",
    "\n",
    "\n",
    "fig, ax = plt.subplots(figsize=(13,5))\n",
    "b = ax.boxplot(R)\n",
    "ax.set_xticklabels(ars_labels)\n",
    "    \n",
    "ax.set_title('Variance of the rewards used for update')\n",
    "plt.show()"
   ]
  },
  {
   "cell_type": "code",
   "execution_count": null,
   "id": "40c31ccb",
   "metadata": {},
   "outputs": [],
   "source": []
  },
  {
   "cell_type": "code",
   "execution_count": null,
   "id": "28ceda0b",
   "metadata": {},
   "outputs": [],
   "source": [
    "D = brs_data + ars_data\n",
    "labels = brs_labels + ars_labels\n",
    "\n",
    "fig, ax = plt.subplots(figsize=(16,5))\n",
    "b = ax.boxplot(D)\n",
    "\n",
    "ax.set_xlabel('Model')\n",
    "ax.set_ylabel('Reward')\n",
    "ax.set_title('Evaluation reward scores, for tested models')\n",
    "\n",
    "ax.set_xticklabels(labels)\n",
    "plt.xticks(rotation = 45)\n",
    "\n",
    "plt.show()\n"
   ]
  },
  {
   "cell_type": "code",
   "execution_count": null,
   "id": "07399654",
   "metadata": {},
   "outputs": [],
   "source": []
  }
 ],
 "metadata": {
  "kernelspec": {
   "display_name": "Python 3",
   "language": "python",
   "name": "python3"
  },
  "language_info": {
   "codemirror_mode": {
    "name": "ipython",
    "version": 3
   },
   "file_extension": ".py",
   "mimetype": "text/x-python",
   "name": "python",
   "nbconvert_exporter": "python",
   "pygments_lexer": "ipython3",
   "version": "3.9.12"
  }
 },
 "nbformat": 4,
 "nbformat_minor": 5
}
